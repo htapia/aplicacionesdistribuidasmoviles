{
 "cells": [
  {
   "cell_type": "markdown",
   "metadata": {},
   "source": [
    "# Tópicos Selectos en Aplicaciones Distribuidas Móviles\n",
    " \n",
    "# Herramientas\n",
    "\n",
    "* Ecosistema de programacion Jupyter, basado en Python, disponible a traves de la [distribucion de Anaconda](https://www.anaconda.com/download/)\n",
    "* Android SDK, particularmente la herramienta adb\n",
    "* Python 4 Android Py4A a traves del servicio sl4a [disponible en este enlace](https://github.com/kuri65536/sl4a). [Instrucciones para instalar y utilizar sl4a en este enlace](extras/Install_SL4A.ipynb).\n",
    "\n",
    "## Pasos\n",
    "\n",
    "Una vez instalado el ecosistema de programacion sera tarea de ustedes familiarizarse con el ambiente de las libretas. Hay una muy buena introduccion en este enlace.\n",
    "\n",
    "1. Verificar que el servicio de `adb` esta funcionando correctamente\n",
    "2. Verficar que el dispositivo es detectado por el sistema\n",
    "3. Asegurarse que el script `android.py` se encuentra en el directorio desde donde se ejecutan las libretas (tambien pueden agregar el directorio en donde se encuentra el script en el PATH de Python, de modo que siempre sea accesible. [Instrucciones aqui](extras/Configure_adb.ipynb).\n",
    "4. Configurar variables de ambiente\n",
    "5. Iniciar el servicio de python a traves de sl4a en el dispositivo. Instrucciones para iniciar el servicio en este enlace.\n",
    "6. Establecer una conexion entre el puerto del servicio en el dispositivo y un puerto local.\n",
    "7. Verificar que el script puede importarse y que puede crearse un objeto de la clase `android`"
   ]
  },
  {
   "cell_type": "code",
   "execution_count": 1,
   "metadata": {},
   "outputs": [
    {
     "name": "stdout",
     "output_type": "stream",
     "text": [
      "9999\r\n"
     ]
    }
   ],
   "source": [
    "!echo $AP_PORT"
   ]
  },
  {
   "cell_type": "code",
   "execution_count": 2,
   "metadata": {
    "collapsed": true
   },
   "outputs": [],
   "source": [
    "# 1. Verificar que el servicio de `adb` esta funcionando \n",
    "!adb start-server"
   ]
  },
  {
   "cell_type": "code",
   "execution_count": 3,
   "metadata": {
    "collapsed": true
   },
   "outputs": [],
   "source": [
    "# El sisguiente comando detiene el servicio; si se ejecuta debera volverse a ejecutar la celda anterior\n",
    "!adb kill-server"
   ]
  },
  {
   "cell_type": "code",
   "execution_count": 4,
   "metadata": {},
   "outputs": [
    {
     "name": "stdout",
     "output_type": "stream",
     "text": [
      "List of devices attached\n",
      "* daemon not running. starting it now on port 5037 *\n",
      "* daemon started successfully *\n",
      "\n"
     ]
    }
   ],
   "source": [
    "# 2. Verficar que el dispositivo es detectado por el sistema\n",
    "!adb devices"
   ]
  },
  {
   "cell_type": "markdown",
   "metadata": {},
   "source": [
    "Iniciar el servidor de python en el dispositivo a traves del SL4A. Como referencia pueden ver el siguiente video:\n",
    "\n",
    "<video width=\"320\" height=\"240\" controls>\n",
    "  <source src=\"../files/videos/startSL4Aserver.mp4\" type=\"video/mp4\">\n",
    "</video>\n",
    "\n",
    "Una vez iniciado el sistema, revisar el numero de puerto en el que esta corriendo (el numero despues de la IP:XXXX) y colocarlo en la siguiente instruccion para establecer la comunicacion entre computadora y el dispostivo. Es conveniente configurar el puerto para que siempre sea un puerto fijo, como se muestra en el siguiente video:\n",
    "\n",
    "<video width=\"320\" height=\"240\" controls>\n",
    "  <source src=\"../files/videos/configureSL4Aport.mp4\" type=\"video/mp4\">\n",
    "</video>"
   ]
  },
  {
   "cell_type": "code",
   "execution_count": 9,
   "metadata": {
    "collapsed": true
   },
   "outputs": [],
   "source": [
    "# 4. Configurar variables de ambiente\n",
    "# !export AP_PORT=9999\n",
    "# 6. establecer conexion entre puertos tcp\n",
    "!adb forward tcp:9999 tcp:2222"
   ]
  },
  {
   "cell_type": "code",
   "execution_count": 10,
   "metadata": {
    "collapsed": true
   },
   "outputs": [],
   "source": [
    "# 2. Verificar que el script puede importarse\n",
    "import android"
   ]
  },
  {
   "cell_type": "markdown",
   "metadata": {},
   "source": [
    "Crear una instancia de la clase `android`; esto permitira acceder programaticamente el dispositivo"
   ]
  },
  {
   "cell_type": "code",
   "execution_count": 11,
   "metadata": {
    "collapsed": true
   },
   "outputs": [],
   "source": [
    "droid=android.Android()\n",
    "#['192.168.100.21','2222'])"
   ]
  },
  {
   "cell_type": "markdown",
   "metadata": {},
   "source": [
    "Hacer un `toast`"
   ]
  },
  {
   "cell_type": "code",
   "execution_count": 12,
   "metadata": {},
   "outputs": [
    {
     "data": {
      "text/plain": [
       "Result(id=0, result=None, error=None)"
      ]
     },
     "execution_count": 12,
     "metadata": {},
     "output_type": "execute_result"
    }
   ],
   "source": [
    "#droid = android.Android()\n",
    "# This message shows up and disappears quickly.\n",
    "droid.makeToast(\"Hello, world!\")"
   ]
  },
  {
   "cell_type": "markdown",
   "metadata": {},
   "source": [
    "Enviarse una notificacion"
   ]
  },
  {
   "cell_type": "code",
   "execution_count": 13,
   "metadata": {},
   "outputs": [
    {
     "data": {
      "text/plain": [
       "Result(id=1, result=None, error=None)"
      ]
     },
     "execution_count": 13,
     "metadata": {},
     "output_type": "execute_result"
    }
   ],
   "source": [
    "droid.notify(\"RySI\", \"Hola ya tienen una idea?\")"
   ]
  },
  {
   "cell_type": "markdown",
   "metadata": {},
   "source": [
    "Hacer vibrar el dispositivo por 2.5 segundos"
   ]
  },
  {
   "cell_type": "code",
   "execution_count": 14,
   "metadata": {},
   "outputs": [
    {
     "data": {
      "text/plain": [
       "Result(id=2, result=None, error=None)"
      ]
     },
     "execution_count": 14,
     "metadata": {},
     "output_type": "execute_result"
    }
   ],
   "source": [
    "droid.vibrate(2500)"
   ]
  },
  {
   "cell_type": "markdown",
   "metadata": {},
   "source": [
    "Convertir texto a voz"
   ]
  },
  {
   "cell_type": "code",
   "execution_count": 19,
   "metadata": {},
   "outputs": [
    {
     "data": {
      "text/plain": [
       "Result(id=1, result=None, error=None)"
      ]
     },
     "execution_count": 19,
     "metadata": {},
     "output_type": "execute_result"
    }
   ],
   "source": [
    "droid.ttsSpeak(\"Una hora?\")"
   ]
  },
  {
   "cell_type": "markdown",
   "metadata": {
    "collapsed": true
   },
   "source": [
    "Felicidades! Si lograron ejecutar todas las celdas de esta libreta de forma exitosa, entonces tienen configurado su sistema para interactuar programaticament con el dispositvo a traves de Python. En las siguientes semanas vamos a prograrmar algunas aplicaciones desarrollandolas en  Python desde nuestro escritorio, pero ejecutandolas en el dispositivo."
   ]
  }
 ],
 "metadata": {
  "anaconda-cloud": {},
  "kernelspec": {
   "display_name": "Python [default]",
   "language": "python",
   "name": "python2"
  },
  "language_info": {
   "codemirror_mode": {
    "name": "ipython",
    "version": 2
   },
   "file_extension": ".py",
   "mimetype": "text/x-python",
   "name": "python",
   "nbconvert_exporter": "python",
   "pygments_lexer": "ipython2",
   "version": "2.7.13"
  }
 },
 "nbformat": 4,
 "nbformat_minor": 2
}
