{
 "cells": [
  {
   "cell_type": "markdown",
   "metadata": {},
   "source": [
    "# Nuestra primer aplicacion\n",
    "\n",
    "## Atencion\n",
    "Para ejecutar esta libreta primero tienen que configurar su sistema como se describe en [la libreta de preparacion](./L00_Preparacion.ipynb). Comenzaremos por conectarnos al dispositivo y asegurar que podemos comunicarnos con el."
   ]
  },
  {
   "cell_type": "code",
   "execution_count": 65,
   "metadata": {
    "collapsed": true
   },
   "outputs": [],
   "source": [
    "!adb devices\n",
    "!adb forward tcp:9999 tcp:2222"
   ]
  },
  {
   "cell_type": "code",
   "execution_count": 66,
   "metadata": {
    "collapsed": true
   },
   "outputs": [],
   "source": [
    "import android"
   ]
  },
  {
   "cell_type": "code",
   "execution_count": 67,
   "metadata": {},
   "outputs": [
    {
     "data": {
      "text/plain": [
       "Result(id=0, result=None, error=None)"
      ]
     },
     "execution_count": 67,
     "metadata": {},
     "output_type": "execute_result"
    }
   ],
   "source": [
    "droid = android.Android()\n",
    "droid.ttsSpeak(\"listo para recibir instrucciones|\")"
   ]
  },
  {
   "cell_type": "markdown",
   "metadata": {},
   "source": [
    "## Objetivo\n",
    "En la sesion de hoy tendremos como objetivo escribir una aplicacion que se conecte a un servicio externo y obtenga la informacion del estado del tiempo en la posicion actual del dispositivo, y finalmente que el dispositivo \"hable\" el estado del tiempo descargado. Para esto necesitaremos:\n",
    "\n",
    "1. conocer la ubicacion del dispositivo\n",
    "2. solcitar la informacion del estado del tiempo en la ubicacion del dispositivo\n",
    "\n",
    "Para 1. usaremos la fachada de localizacion , en particular usaremos [getLastKnownLocation](https://github.com/kuri65536/sl4a/blob/master/docs/ApiReference.md#getlastknownlocation) y [geocode](https://github.com/kuri65536/sl4a/blob/master/docs/ApiReference.md#geocode).\n",
    "Para 2. usaremos la informacion obtenida de 1. y algunas librerias externas de Python para solicitar el estado del tiempo usando la API de [OpenWeatherMap](https://openweathermap.org/city/3526617).\n",
    "\n",
    "Comenzamos!"
   ]
  },
  {
   "cell_type": "markdown",
   "metadata": {},
   "source": [
    "## 1. Determinar ultima posicion conocida del dispositivo"
   ]
  },
  {
   "cell_type": "code",
   "execution_count": 68,
   "metadata": {},
   "outputs": [
    {
     "data": {
      "text/plain": [
       "{u'gps': None,\n",
       " u'network': {u'accuracy': 28.100000381469727,\n",
       "  u'altitude': 1346,\n",
       "  u'bearing': 0,\n",
       "  u'latitude': 19.519619,\n",
       "  u'longitude': -96.9155692,\n",
       "  u'provider': u'network',\n",
       "  u'speed': 0,\n",
       "  u'time': 1521559881141},\n",
       " u'passive': {u'accuracy': 28.100000381469727,\n",
       "  u'altitude': 1346,\n",
       "  u'bearing': 0,\n",
       "  u'latitude': 19.519619,\n",
       "  u'longitude': -96.9155692,\n",
       "  u'provider': u'network',\n",
       "  u'speed': 0,\n",
       "  u'time': 1521559881141}}"
      ]
     },
     "execution_count": 68,
     "metadata": {},
     "output_type": "execute_result"
    }
   ],
   "source": [
    "# obtener la ultima localizacion conocida\n",
    "droid.getLastKnownLocation().result"
   ]
  },
  {
   "cell_type": "code",
   "execution_count": 69,
   "metadata": {},
   "outputs": [
    {
     "data": {
      "text/plain": [
       "dict"
      ]
     },
     "execution_count": 69,
     "metadata": {},
     "output_type": "execute_result"
    }
   ],
   "source": [
    "# asignamos la ultima localizacion conocida a una variable.\n",
    "# notemos que la variable es del tipo diccionario (dict)\n",
    "ultimaLocalizacionConocida = droid.getLastKnownLocation().result\n",
    "\n",
    "type(ultimaLocalizacionConocida)"
   ]
  },
  {
   "cell_type": "code",
   "execution_count": 11,
   "metadata": {},
   "outputs": [
    {
     "name": "stdout",
     "output_type": "stream",
     "text": [
      "None\n"
     ]
    }
   ],
   "source": [
    "# notemos que el valor de la llave 'gps' es nulo\n",
    "print(ultimaLocalizacionConocida['gps'])"
   ]
  },
  {
   "cell_type": "code",
   "execution_count": 14,
   "metadata": {},
   "outputs": [
    {
     "data": {
      "text/plain": [
       "{u'accuracy': 30,\n",
       " u'altitude': 1346,\n",
       " u'bearing': 0,\n",
       " u'latitude': 19.519619,\n",
       " u'longitude': -96.9155692,\n",
       " u'provider': u'network',\n",
       " u'speed': 0,\n",
       " u'time': 1521486572821}"
      ]
     },
     "execution_count": 14,
     "metadata": {},
     "output_type": "execute_result"
    }
   ],
   "source": [
    "# accedemos al valor de la llave network\n",
    "ultimaLocalizacionConocida['network']"
   ]
  },
  {
   "cell_type": "markdown",
   "metadata": {},
   "source": [
    "El valor asignado a la variable `ultimaLoc` dependera de cual de los proveedores sea no nulo. Al final de la celda desplegamos el contenido asignado a `ultimaLoc`. Noten la estructura de diccionario."
   ]
  },
  {
   "cell_type": "code",
   "execution_count": 20,
   "metadata": {},
   "outputs": [
    {
     "name": "stdout",
     "output_type": "stream",
     "text": [
      "<type 'dict'>\n",
      "{u'bearing': 0, u'altitude': 1346, u'time': 1521486572821, u'longitude': -96.9155692, u'provider': u'network', u'latitude': 19.519619, u'speed': 0, u'accuracy': 30}\n"
     ]
    },
    {
     "data": {
      "text/plain": [
       "[u'bearing',\n",
       " u'altitude',\n",
       " u'time',\n",
       " u'longitude',\n",
       " u'provider',\n",
       " u'latitude',\n",
       " u'speed',\n",
       " u'accuracy']"
      ]
     },
     "execution_count": 20,
     "metadata": {},
     "output_type": "execute_result"
    }
   ],
   "source": [
    "# asignamos una variable al contenido de la llave que no es nula usando una condicional\n",
    "\n",
    "if ultimaLocalizacionConocida['gps'] is not None:\n",
    "    ultimaLoc = ultimaLocalizacionConocida['gps']\n",
    "else:\n",
    "    ultimaLoc = ultimaLocalizacionConocida['network']\n",
    "\n",
    "print type(ultimaLoc)\n",
    "print ultimaLoc\n",
    "ultimaLoc.keys()"
   ]
  },
  {
   "cell_type": "markdown",
   "metadata": {},
   "source": [
    "Ahora vamos a extraer la latitud, longitud y estampa temporal del diccionario anterior. "
   ]
  },
  {
   "cell_type": "code",
   "execution_count": 37,
   "metadata": {},
   "outputs": [
    {
     "name": "stdout",
     "output_type": "stream",
     "text": [
      "1521486572821\n"
     ]
    }
   ],
   "source": [
    "# del diccionario extraemos latitud y longitud y fecha\n",
    "lat = ultimaLoc[\"latitude\"]\n",
    "lon = ultimaLoc[\"longitude\"]\n",
    "time = ultimaLoc[\"time\"]\n",
    "print time"
   ]
  },
  {
   "cell_type": "markdown",
   "metadata": {},
   "source": [
    "Noten que la variable `time` es lo que se conoce como un `timestamp` un numero entero que cuenta los segundos transcurridos desde un inicio determinado. De este modo necesitamos convertirla en un formato amigable. Para esto usamos un modulo de Python que se llama `datetime`"
   ]
  },
  {
   "cell_type": "code",
   "execution_count": 39,
   "metadata": {},
   "outputs": [
    {
     "name": "stdout",
     "output_type": "stream",
     "text": [
      "2018-03-19 13:09:32.821000\n"
     ]
    }
   ],
   "source": [
    "import datetime\n",
    "\n",
    "fecha = datetime.datetime.fromtimestamp(time / 1e3)\n",
    "print fecha"
   ]
  },
  {
   "cell_type": "code",
   "execution_count": 43,
   "metadata": {},
   "outputs": [
    {
     "name": "stdout",
     "output_type": "stream",
     "text": [
      "2018-03-19 13:09:32\n"
     ]
    }
   ],
   "source": [
    "# otra forma de presentar la fecha solo hasta segundos\n",
    "fecha = datetime.datetime.fromtimestamp(time/1e3).strftime('%Y-%m-%d %H:%M:%S')\n",
    "print fecha"
   ]
  },
  {
   "cell_type": "markdown",
   "metadata": {},
   "source": [
    "Ahora usaremos [geocode](https://github.com/kuri65536/sl4a/blob/master/docs/ApiReference.md#geocode) que es una funcion del dispositivo que regresa una lista de direcciones para la latitud y longitud dadas:"
   ]
  },
  {
   "cell_type": "code",
   "execution_count": 29,
   "metadata": {
    "collapsed": true
   },
   "outputs": [
    {
     "data": {
      "text/plain": [
       "[{u'admin_area': u'Veracruz',\n",
       "  u'country_code': u'MX',\n",
       "  u'country_name': u'Mexico',\n",
       "  u'feature_name': u'68',\n",
       "  u'locality': u'Xalapa Enr\\xedquez',\n",
       "  u'postal_code': u'91000',\n",
       "  u'sub_admin_area': u'Xalapa',\n",
       "  u'thoroughfare': u'Avenida Enrique C. R\\xe9bsamen'},\n",
       " {u'admin_area': u'Veracruz',\n",
       "  u'country_code': u'MX',\n",
       "  u'country_name': u'Mexico',\n",
       "  u'feature_name': u'Centro',\n",
       "  u'locality': u'Xalapa Enr\\xedquez',\n",
       "  u'postal_code': u'91000',\n",
       "  u'sub_admin_area': u'Xalapa'},\n",
       " {u'admin_area': u'Veracruz',\n",
       "  u'country_code': u'MX',\n",
       "  u'country_name': u'Mexico',\n",
       "  u'feature_name': u'Zona Centro',\n",
       "  u'locality': u'Xalapa Enr\\xedquez',\n",
       "  u'postal_code': u'91000',\n",
       "  u'sub_admin_area': u'Xalapa'},\n",
       " {u'admin_area': u'Veracruz',\n",
       "  u'country_code': u'MX',\n",
       "  u'country_name': u'Mexico',\n",
       "  u'feature_name': u'Xalapa',\n",
       "  u'locality': u'Xalapa',\n",
       "  u'sub_admin_area': u'Xalapa'},\n",
       " {u'admin_area': u'Veracruz',\n",
       "  u'country_code': u'MX',\n",
       "  u'country_name': u'Mexico',\n",
       "  u'feature_name': u'91000',\n",
       "  u'locality': u'Xalapa Enr\\xedquez',\n",
       "  u'postal_code': u'91000',\n",
       "  u'sub_admin_area': u'Xalapa'}]"
      ]
     },
     "execution_count": 29,
     "metadata": {},
     "output_type": "execute_result"
    }
   ],
   "source": [
    "droid.geocode(lat,lon,5).result"
   ]
  },
  {
   "cell_type": "markdown",
   "metadata": {},
   "source": [
    "Noten que el resultado no es un diccionario, sino una lista de diccionarios. Si no se especifica el ultimo numero (cuantas direcciones solicitar) se regresa solo un valor:"
   ]
  },
  {
   "cell_type": "code",
   "execution_count": 31,
   "metadata": {},
   "outputs": [
    {
     "name": "stdout",
     "output_type": "stream",
     "text": [
      "[{u'thoroughfare': u'Avenida Enrique C. R\\xe9bsamen', u'locality': u'Xalapa Enr\\xedquez', u'sub_admin_area': u'Xalapa', u'admin_area': u'Veracruz', u'feature_name': u'68', u'country_code': u'MX', u'country_name': u'Mexico', u'postal_code': u'91000'}]\n"
     ]
    },
    {
     "data": {
      "text/plain": [
       "list"
      ]
     },
     "execution_count": 31,
     "metadata": {},
     "output_type": "execute_result"
    }
   ],
   "source": [
    "direccion = droid.geocode(lat,lon).result\n",
    "print direccion\n",
    "type(direccion)"
   ]
  },
  {
   "cell_type": "markdown",
   "metadata": {},
   "source": [
    "Dado que la variable `direccion` es una lista, debemos acceder a sus elementos especificando un indice:"
   ]
  },
  {
   "cell_type": "code",
   "execution_count": 33,
   "metadata": {},
   "outputs": [
    {
     "name": "stdout",
     "output_type": "stream",
     "text": [
      "91000\n",
      "MX\n"
     ]
    }
   ],
   "source": [
    "codigoPostal = direccion[0][\"postal_code\"]\n",
    "print codigoPostal\n",
    "codigoPais = direccion[0][\"country_code\"]\n",
    "print codigoPais"
   ]
  },
  {
   "cell_type": "markdown",
   "metadata": {},
   "source": [
    "## 2. Solicitar estado del tiempo usando API de OpenWeatherMap"
   ]
  },
  {
   "cell_type": "markdown",
   "metadata": {},
   "source": [
    "Con el codigo postal y el codigo del pais podemos solicitar informacion a la API en la siguiente url:"
   ]
  },
  {
   "cell_type": "code",
   "execution_count": 44,
   "metadata": {
    "collapsed": true,
    "scrolled": true
   },
   "outputs": [],
   "source": [
    "url=\"http://api.openweathermap.org/data/2.5/weather?zip={0},{1}&APPID=dfeea5e604e1948b28652216ad910d11\".format(codigoPostal,codigoPais)"
   ]
  },
  {
   "cell_type": "code",
   "execution_count": 45,
   "metadata": {},
   "outputs": [
    {
     "name": "stdout",
     "output_type": "stream",
     "text": [
      "http://api.openweathermap.org/data/2.5/weather?zip=91000,MX&APPID=dfeea5e604e1948b28652216ad910d11\n"
     ]
    }
   ],
   "source": [
    "print(url)"
   ]
  },
  {
   "cell_type": "markdown",
   "metadata": {},
   "source": [
    "Podemos solicitar la informacion a un `url` directamente usando una libreria que se llama `requests` del siguiente modo:"
   ]
  },
  {
   "cell_type": "code",
   "execution_count": 114,
   "metadata": {
    "collapsed": true
   },
   "outputs": [],
   "source": [
    "import requests\n",
    "estadoDelTiempo = requests.get(url).json()\n",
    "\n",
    "# vamos a usar urrlib2 pues requests no esta disponible en el movil\n",
    "\n",
    "import urllib2\n",
    "response = urllib2.urlopen(url)\n",
    "respuesta = response.read()\n",
    "response.close()"
   ]
  },
  {
   "cell_type": "code",
   "execution_count": 115,
   "metadata": {
    "collapsed": true
   },
   "outputs": [],
   "source": [
    "# convertimos el resultado a un dictionario de JSON\n",
    "\n",
    "import json\n",
    "\n",
    "estadoDelTiempo = json.loads(respuesta)"
   ]
  },
  {
   "cell_type": "markdown",
   "metadata": {},
   "source": [
    "El resultado es un diccionario en formato json"
   ]
  },
  {
   "cell_type": "code",
   "execution_count": 116,
   "metadata": {},
   "outputs": [
    {
     "data": {
      "text/plain": [
       "{u'base': u'stations',\n",
       " u'clouds': {u'all': 5},\n",
       " u'cod': 200,\n",
       " u'coord': {u'lat': 19.43, u'lon': -99.13},\n",
       " u'dt': 1521568800,\n",
       " u'id': 590134368,\n",
       " u'main': {u'humidity': 17,\n",
       "  u'pressure': 1024,\n",
       "  u'temp': 298.56,\n",
       "  u'temp_max': 303.15,\n",
       "  u'temp_min': 295.15},\n",
       " u'name': u'Mexico City',\n",
       " u'sys': {u'country': u'MX',\n",
       "  u'id': 3998,\n",
       "  u'message': 0.0038,\n",
       "  u'sunrise': 1521549591,\n",
       "  u'sunset': 1521593265,\n",
       "  u'type': 1},\n",
       " u'visibility': 11265,\n",
       " u'weather': [{u'description': u'clear sky',\n",
       "   u'icon': u'02d',\n",
       "   u'id': 800,\n",
       "   u'main': u'Clear'}],\n",
       " u'wind': {u'deg': 40, u'speed': 2.1}}"
      ]
     },
     "execution_count": 116,
     "metadata": {},
     "output_type": "execute_result"
    }
   ],
   "source": [
    "estadoDelTiempo"
   ]
  },
  {
   "cell_type": "code",
   "execution_count": 109,
   "metadata": {},
   "outputs": [
    {
     "data": {
      "text/plain": [
       "[u'clouds',\n",
       " u'name',\n",
       " u'visibility',\n",
       " u'sys',\n",
       " u'weather',\n",
       " u'coord',\n",
       " u'base',\n",
       " u'dt',\n",
       " u'main',\n",
       " u'id',\n",
       " u'wind',\n",
       " u'cod']"
      ]
     },
     "execution_count": 109,
     "metadata": {},
     "output_type": "execute_result"
    }
   ],
   "source": [
    "estadoDelTiempo.keys()"
   ]
  },
  {
   "cell_type": "code",
   "execution_count": 110,
   "metadata": {},
   "outputs": [
    {
     "data": {
      "text/plain": [
       "[{u'description': u'clear sky',\n",
       "  u'icon': u'02d',\n",
       "  u'id': 800,\n",
       "  u'main': u'Clear'}]"
      ]
     },
     "execution_count": 110,
     "metadata": {},
     "output_type": "execute_result"
    }
   ],
   "source": [
    "# queremos la descripcion de estado del tiempo\n",
    "estadoDelTiempo[\"weather\"]"
   ]
  },
  {
   "cell_type": "code",
   "execution_count": 52,
   "metadata": {
    "collapsed": true
   },
   "outputs": [],
   "source": [
    "# es una lista\n",
    "descripcion = estadoDelTiempo[\"weather\"][0]['description']"
   ]
  },
  {
   "cell_type": "code",
   "execution_count": 111,
   "metadata": {
    "collapsed": true
   },
   "outputs": [],
   "source": [
    "import sys\n",
    "reload(sys)  # Reload does the trick!\n",
    "sys.setdefaultencoding('UTF8')"
   ]
  },
  {
   "cell_type": "markdown",
   "metadata": {},
   "source": [
    "# Ejercicio\n",
    "\n",
    "Completar los valores que hacen falta entre las comas al final de la siguiente instruccion.\n",
    "Necesitan ingresar cuatro valores entre las comas, los valores estan en alguna de las celdas de evaluacion de esta libreta.\n",
    "El mensaje debe verse como sigue:\n",
    "\n",
    "    'En la ciudad de Xalapa Enr\\xc3\\xadquez, siendo las 2018-03-19 13:09:32 horas, en la calle de Avenida Enrique C. R\\xc3\\xa9bsamen, el estado del tiempo es scattered clouds'"
   ]
  },
  {
   "cell_type": "code",
   "execution_count": 61,
   "metadata": {
    "collapsed": true
   },
   "outputs": [],
   "source": [
    "# ejercicio, completa los valores que hacen falta entre las comas\n",
    "mensaje='En la ciudad de {0}, siendo las {1} horas, en la calle de {2}, el estado del tiempo es {3}'.format( \\\n",
    "                                ,,,)"
   ]
  },
  {
   "cell_type": "code",
   "execution_count": 112,
   "metadata": {},
   "outputs": [
    {
     "data": {
      "text/plain": [
       "'En la ciudad de Xalapa Enr\\xc3\\xadquez, siendo las 2018-03-19 13:09:32 horas, en la calle de Avenida Enrique C. R\\xc3\\xa9bsamen, el estado del tiempo es scattered clouds'"
      ]
     },
     "execution_count": 112,
     "metadata": {},
     "output_type": "execute_result"
    }
   ],
   "source": [
    "mensaje"
   ]
  },
  {
   "cell_type": "markdown",
   "metadata": {},
   "source": [
    "Finalmente le damos al dispositivo la instruccion de darnos el mensaje creado..."
   ]
  },
  {
   "cell_type": "code",
   "execution_count": 113,
   "metadata": {
    "collapsed": true
   },
   "outputs": [
    {
     "ename": "ValueError",
     "evalue": "No JSON object could be decoded",
     "output_type": "error",
     "traceback": [
      "\u001b[0;31m---------------------------------------------------------------------------\u001b[0m",
      "\u001b[0;31mValueError\u001b[0m                                Traceback (most recent call last)",
      "\u001b[0;32m<ipython-input-113-05569fdd68b5>\u001b[0m in \u001b[0;36m<module>\u001b[0;34m()\u001b[0m\n\u001b[0;32m----> 1\u001b[0;31m \u001b[0mdroid\u001b[0m\u001b[0;34m.\u001b[0m\u001b[0mttsSpeak\u001b[0m\u001b[0;34m(\u001b[0m\u001b[0mmensaje\u001b[0m\u001b[0;34m)\u001b[0m\u001b[0;34m\u001b[0m\u001b[0m\n\u001b[0m",
      "\u001b[0;32m/home/horacio/.local/lib/python2.7/site-packages/android.pyc\u001b[0m in \u001b[0;36mrpc_call\u001b[0;34m(*args)\u001b[0m\n\u001b[1;32m     57\u001b[0m   \u001b[0;32mdef\u001b[0m \u001b[0m__getattr__\u001b[0m\u001b[0;34m(\u001b[0m\u001b[0mself\u001b[0m\u001b[0;34m,\u001b[0m \u001b[0mname\u001b[0m\u001b[0;34m)\u001b[0m\u001b[0;34m:\u001b[0m\u001b[0;34m\u001b[0m\u001b[0m\n\u001b[1;32m     58\u001b[0m     \u001b[0;32mdef\u001b[0m \u001b[0mrpc_call\u001b[0m\u001b[0;34m(\u001b[0m\u001b[0;34m*\u001b[0m\u001b[0margs\u001b[0m\u001b[0;34m)\u001b[0m\u001b[0;34m:\u001b[0m\u001b[0;34m\u001b[0m\u001b[0m\n\u001b[0;32m---> 59\u001b[0;31m       \u001b[0;32mreturn\u001b[0m \u001b[0mself\u001b[0m\u001b[0;34m.\u001b[0m\u001b[0m_rpc\u001b[0m\u001b[0;34m(\u001b[0m\u001b[0mname\u001b[0m\u001b[0;34m,\u001b[0m \u001b[0;34m*\u001b[0m\u001b[0margs\u001b[0m\u001b[0;34m)\u001b[0m\u001b[0;34m\u001b[0m\u001b[0m\n\u001b[0m\u001b[1;32m     60\u001b[0m     \u001b[0;32mreturn\u001b[0m \u001b[0mrpc_call\u001b[0m\u001b[0;34m\u001b[0m\u001b[0m\n",
      "\u001b[0;32m/home/horacio/.local/lib/python2.7/site-packages/android.pyc\u001b[0m in \u001b[0;36m_rpc\u001b[0;34m(self, method, *args)\u001b[0m\n\u001b[1;32m     48\u001b[0m     \u001b[0mresponse\u001b[0m \u001b[0;34m=\u001b[0m \u001b[0mself\u001b[0m\u001b[0;34m.\u001b[0m\u001b[0mclient\u001b[0m\u001b[0;34m.\u001b[0m\u001b[0mreadline\u001b[0m\u001b[0;34m(\u001b[0m\u001b[0;34m)\u001b[0m\u001b[0;34m\u001b[0m\u001b[0m\n\u001b[1;32m     49\u001b[0m     \u001b[0mself\u001b[0m\u001b[0;34m.\u001b[0m\u001b[0mid\u001b[0m \u001b[0;34m+=\u001b[0m \u001b[0;36m1\u001b[0m\u001b[0;34m\u001b[0m\u001b[0m\n\u001b[0;32m---> 50\u001b[0;31m     \u001b[0mresult\u001b[0m \u001b[0;34m=\u001b[0m \u001b[0mjson\u001b[0m\u001b[0;34m.\u001b[0m\u001b[0mloads\u001b[0m\u001b[0;34m(\u001b[0m\u001b[0mresponse\u001b[0m\u001b[0;34m)\u001b[0m\u001b[0;34m\u001b[0m\u001b[0m\n\u001b[0m\u001b[1;32m     51\u001b[0m     \u001b[0;32mif\u001b[0m \u001b[0mresult\u001b[0m\u001b[0;34m[\u001b[0m\u001b[0;34m'error'\u001b[0m\u001b[0;34m]\u001b[0m \u001b[0;32mis\u001b[0m \u001b[0;32mnot\u001b[0m \u001b[0mNone\u001b[0m\u001b[0;34m:\u001b[0m\u001b[0;34m\u001b[0m\u001b[0m\n\u001b[1;32m     52\u001b[0m       \u001b[0;32mprint\u001b[0m \u001b[0mresult\u001b[0m\u001b[0;34m[\u001b[0m\u001b[0;34m'error'\u001b[0m\u001b[0;34m]\u001b[0m\u001b[0;34m\u001b[0m\u001b[0m\n",
      "\u001b[0;32m/home/horacio/anaconda2/lib/python2.7/json/__init__.pyc\u001b[0m in \u001b[0;36mloads\u001b[0;34m(s, encoding, cls, object_hook, parse_float, parse_int, parse_constant, object_pairs_hook, **kw)\u001b[0m\n\u001b[1;32m    337\u001b[0m             \u001b[0mparse_int\u001b[0m \u001b[0;32mis\u001b[0m \u001b[0mNone\u001b[0m \u001b[0;32mand\u001b[0m \u001b[0mparse_float\u001b[0m \u001b[0;32mis\u001b[0m \u001b[0mNone\u001b[0m \u001b[0;32mand\u001b[0m\u001b[0;34m\u001b[0m\u001b[0m\n\u001b[1;32m    338\u001b[0m             parse_constant is None and object_pairs_hook is None and not kw):\n\u001b[0;32m--> 339\u001b[0;31m         \u001b[0;32mreturn\u001b[0m \u001b[0m_default_decoder\u001b[0m\u001b[0;34m.\u001b[0m\u001b[0mdecode\u001b[0m\u001b[0;34m(\u001b[0m\u001b[0ms\u001b[0m\u001b[0;34m)\u001b[0m\u001b[0;34m\u001b[0m\u001b[0m\n\u001b[0m\u001b[1;32m    340\u001b[0m     \u001b[0;32mif\u001b[0m \u001b[0mcls\u001b[0m \u001b[0;32mis\u001b[0m \u001b[0mNone\u001b[0m\u001b[0;34m:\u001b[0m\u001b[0;34m\u001b[0m\u001b[0m\n\u001b[1;32m    341\u001b[0m         \u001b[0mcls\u001b[0m \u001b[0;34m=\u001b[0m \u001b[0mJSONDecoder\u001b[0m\u001b[0;34m\u001b[0m\u001b[0m\n",
      "\u001b[0;32m/home/horacio/anaconda2/lib/python2.7/json/decoder.pyc\u001b[0m in \u001b[0;36mdecode\u001b[0;34m(self, s, _w)\u001b[0m\n\u001b[1;32m    362\u001b[0m \u001b[0;34m\u001b[0m\u001b[0m\n\u001b[1;32m    363\u001b[0m         \"\"\"\n\u001b[0;32m--> 364\u001b[0;31m         \u001b[0mobj\u001b[0m\u001b[0;34m,\u001b[0m \u001b[0mend\u001b[0m \u001b[0;34m=\u001b[0m \u001b[0mself\u001b[0m\u001b[0;34m.\u001b[0m\u001b[0mraw_decode\u001b[0m\u001b[0;34m(\u001b[0m\u001b[0ms\u001b[0m\u001b[0;34m,\u001b[0m \u001b[0midx\u001b[0m\u001b[0;34m=\u001b[0m\u001b[0m_w\u001b[0m\u001b[0;34m(\u001b[0m\u001b[0ms\u001b[0m\u001b[0;34m,\u001b[0m \u001b[0;36m0\u001b[0m\u001b[0;34m)\u001b[0m\u001b[0;34m.\u001b[0m\u001b[0mend\u001b[0m\u001b[0;34m(\u001b[0m\u001b[0;34m)\u001b[0m\u001b[0;34m)\u001b[0m\u001b[0;34m\u001b[0m\u001b[0m\n\u001b[0m\u001b[1;32m    365\u001b[0m         \u001b[0mend\u001b[0m \u001b[0;34m=\u001b[0m \u001b[0m_w\u001b[0m\u001b[0;34m(\u001b[0m\u001b[0ms\u001b[0m\u001b[0;34m,\u001b[0m \u001b[0mend\u001b[0m\u001b[0;34m)\u001b[0m\u001b[0;34m.\u001b[0m\u001b[0mend\u001b[0m\u001b[0;34m(\u001b[0m\u001b[0;34m)\u001b[0m\u001b[0;34m\u001b[0m\u001b[0m\n\u001b[1;32m    366\u001b[0m         \u001b[0;32mif\u001b[0m \u001b[0mend\u001b[0m \u001b[0;34m!=\u001b[0m \u001b[0mlen\u001b[0m\u001b[0;34m(\u001b[0m\u001b[0ms\u001b[0m\u001b[0;34m)\u001b[0m\u001b[0;34m:\u001b[0m\u001b[0;34m\u001b[0m\u001b[0m\n",
      "\u001b[0;32m/home/horacio/anaconda2/lib/python2.7/json/decoder.pyc\u001b[0m in \u001b[0;36mraw_decode\u001b[0;34m(self, s, idx)\u001b[0m\n\u001b[1;32m    380\u001b[0m             \u001b[0mobj\u001b[0m\u001b[0;34m,\u001b[0m \u001b[0mend\u001b[0m \u001b[0;34m=\u001b[0m \u001b[0mself\u001b[0m\u001b[0;34m.\u001b[0m\u001b[0mscan_once\u001b[0m\u001b[0;34m(\u001b[0m\u001b[0ms\u001b[0m\u001b[0;34m,\u001b[0m \u001b[0midx\u001b[0m\u001b[0;34m)\u001b[0m\u001b[0;34m\u001b[0m\u001b[0m\n\u001b[1;32m    381\u001b[0m         \u001b[0;32mexcept\u001b[0m \u001b[0mStopIteration\u001b[0m\u001b[0;34m:\u001b[0m\u001b[0;34m\u001b[0m\u001b[0m\n\u001b[0;32m--> 382\u001b[0;31m             \u001b[0;32mraise\u001b[0m \u001b[0mValueError\u001b[0m\u001b[0;34m(\u001b[0m\u001b[0;34m\"No JSON object could be decoded\"\u001b[0m\u001b[0;34m)\u001b[0m\u001b[0;34m\u001b[0m\u001b[0m\n\u001b[0m\u001b[1;32m    383\u001b[0m         \u001b[0;32mreturn\u001b[0m \u001b[0mobj\u001b[0m\u001b[0;34m,\u001b[0m \u001b[0mend\u001b[0m\u001b[0;34m\u001b[0m\u001b[0m\n",
      "\u001b[0;31mValueError\u001b[0m: No JSON object could be decoded"
     ]
    }
   ],
   "source": [
    "droid.ttsSpeak(mensaje)"
   ]
  },
  {
   "cell_type": "markdown",
   "metadata": {},
   "source": [
    "Felicidades! han hecho su primer app en Python para Android. En la siguiente sesion vamos a integrar la app con la funcionalidad de localizacion para que pueda decirles el estado del tiempo en cualquier lugar en donde se encuentren usando la posicion actual."
   ]
  }
 ],
 "metadata": {
  "anaconda-cloud": {},
  "kernelspec": {
   "display_name": "Python [default]",
   "language": "python",
   "name": "python2"
  },
  "language_info": {
   "codemirror_mode": {
    "name": "ipython",
    "version": 2
   },
   "file_extension": ".py",
   "mimetype": "text/x-python",
   "name": "python",
   "nbconvert_exporter": "python",
   "pygments_lexer": "ipython2",
   "version": "2.7.13"
  }
 },
 "nbformat": 4,
 "nbformat_minor": 2
}
