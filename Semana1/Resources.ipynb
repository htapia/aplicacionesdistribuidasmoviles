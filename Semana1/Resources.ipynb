{
 "cells": [
  {
   "cell_type": "markdown",
   "metadata": {},
   "source": [
    "http://www.brokenairplane.com/2011/08/im-not-texting-im-programming.html\n",
    "\n",
    "https://stackoverflow.com/questions/48986517/how-to-use-a-sl4a-script-to-launch-an-android-app\n",
    "\n",
    "https://github.com/damonkohler/sl4a/blob/wiki/Tutorials.md\n",
    "\n",
    "https://publiclab.org/notes/LummiGIS/07-31-2014/android-smartphone-python-script-to-capture-images-from-a-baloon\n",
    "\n",
    "https://www.pythoncentral.io/python-android-androids-native-dialogs-sl4a/\n",
    "\n",
    "https://stackoverflow.com/questions/9394041/reading-gps-values-with-python-in-sl4a-does-not-work\n",
    "\n",
    "http://shallowsky.com/blog/programming/python-for-android.html"
   ]
  }
 ],
 "metadata": {
  "kernelspec": {
   "display_name": "Python [default]",
   "language": "python",
   "name": "python2"
  },
  "language_info": {
   "codemirror_mode": {
    "name": "ipython",
    "version": 2
   },
   "file_extension": ".py",
   "mimetype": "text/x-python",
   "name": "python",
   "nbconvert_exporter": "python",
   "pygments_lexer": "ipython2",
   "version": "2.7.13"
  }
 },
 "nbformat": 4,
 "nbformat_minor": 2
}
