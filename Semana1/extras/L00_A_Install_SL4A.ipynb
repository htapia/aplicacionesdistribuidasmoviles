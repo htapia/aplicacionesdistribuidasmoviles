{
 "cells": [
  {
   "cell_type": "markdown",
   "metadata": {},
   "source": [
    "# Instalación del Scripting Layer 4 Android en un dispositivo móvil\n",
    "\n",
    "1. Para instalar el programa debe estar habilitada la opción de instalar de fuentes desconocidas en las configuraciones del dispositivo, como lo muestra el siguiente video:"
   ]
  },
  {
   "cell_type": "code",
   "execution_count": 3,
   "metadata": {},
   "outputs": [
    {
     "data": {
      "text/html": [
       "<video width=\"320\" height=\"240\" controls>\n",
       "  <source src=\"files/videos/unknown_sources.mp4\" type=\"video/mp4\">\n",
       "</video>"
      ],
      "text/plain": [
       "<IPython.core.display.HTML object>"
      ]
     },
     "metadata": {},
     "output_type": "display_data"
    }
   ],
   "source": [
    "%%HTML\n",
    "<video width=\"320\" height=\"240\" controls>\n",
    "  <source src=\"files/videos/unknown_sources.mp4\" type=\"video/mp4\">\n",
    "</video>"
   ]
  },
  {
   "cell_type": "markdown",
   "metadata": {},
   "source": [
    "2. Descargar la aplicación en el dispositivo móvil, disponible a través del siguiente código de barras (es necesaria una aplicación capaz de leer el código, [por ejemplo Bar Code Scanner](https://play.google.com/store/apps/details?id=com.google.zxing.client.android&hl=en) o una similar.\n",
    "\n",
    "![sl4a](files/images/sl4a.png)\n",
    "\n",
    "3. Aceptar la instalación de la aplicación.\n",
    "\n",
    "4. Iniciar el programa de Sl4A\n",
    "\n",
    "Como referencia pueden ver el siguiente video. "
   ]
  },
  {
   "cell_type": "code",
   "execution_count": 4,
   "metadata": {},
   "outputs": [
    {
     "data": {
      "text/html": [
       "<video width=\"320\" height=\"240\" controls>\n",
       "  <source src=\"files/videos/install_sl4a.mp4\" type=\"video/mp4\">\n",
       "</video>"
      ],
      "text/plain": [
       "<IPython.core.display.HTML object>"
      ]
     },
     "metadata": {},
     "output_type": "display_data"
    }
   ],
   "source": [
    "%%HTML\n",
    "<video width=\"320\" height=\"240\" controls>\n",
    "  <source src=\"files/videos/install_sl4a.mp4\" type=\"video/mp4\">\n",
    "</video>"
   ]
  },
  {
   "cell_type": "markdown",
   "metadata": {},
   "source": [
    "Descargar e instalar Python 4 Android [de este enlace](https://github.com/kuri65536/python-for-android/releases/download/r26/PythonForAndroid-debug-r26.apk) en su dispositivo movil."
   ]
  },
  {
   "cell_type": "code",
   "execution_count": null,
   "metadata": {
    "collapsed": true
   },
   "outputs": [],
   "source": []
  }
 ],
 "metadata": {
  "anaconda-cloud": {},
  "kernelspec": {
   "display_name": "Python [default]",
   "language": "python",
   "name": "python2"
  },
  "language_info": {
   "codemirror_mode": {
    "name": "ipython",
    "version": 2
   },
   "file_extension": ".py",
   "mimetype": "text/x-python",
   "name": "python",
   "nbconvert_exporter": "python",
   "pygments_lexer": "ipython2",
   "version": "2.7.13"
  }
 },
 "nbformat": 4,
 "nbformat_minor": 2
}
