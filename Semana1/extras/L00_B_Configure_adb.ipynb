{
 "cells": [
  {
   "cell_type": "markdown",
   "metadata": {},
   "source": [
    "En esta libreta explicamos como connfigurar su sistema para poder ejecutar adb directamente desde las libretas y establecer un puente de comunicacion entre el dispositivo y la computadora. La configuracion es similar en los tres SOs mas comunes: establecer variables de entorno y la ruta donde se ejecuta el programa. La diferencia es que cada SO tiene un configuracion distinta. Comenzaremos por configurar sistemas \\*NIX (LINUX, UNIX MAC OS)"
   ]
  },
  {
   "cell_type": "markdown",
   "metadata": {},
   "source": [
    "## Instalar `adb`\n",
    "\n",
    "En LINUX puede instalarse el `adb` usando\n",
    "\n",
    "    sudo apt-get install adb\n",
    "    \n",
    "En MAC puede hacerse automaticamente usando `homebrew` o de forma manual directamente desde el SDK. Es muy probable que si han seguido el diplomado hasta este momento ya lo tengan instalado. Si tienen problemas pueden contactarme por la pagina del curso.\n",
    "\n",
    "Para revisar que el comando esta instalado en su correspondiente sistema, ejecuten la siguiente celda de codigo (Shift+Enter):"
   ]
  },
  {
   "cell_type": "code",
   "execution_count": 2,
   "metadata": {},
   "outputs": [
    {
     "name": "stdout",
     "output_type": "stream",
     "text": [
      "List of devices attached\n",
      "* daemon not running. starting it now on port 5037 *\n",
      "* daemon started successfully *\n",
      "09c3400a\tdevice\n",
      "\n"
     ]
    }
   ],
   "source": [
    "!adb devices"
   ]
  },
  {
   "cell_type": "markdown",
   "metadata": {},
   "source": [
    "El comando anterior inicia el servicio de `adb` y solicita autorizacion de conexion a su dispositivo, de modo que lo autoriza mostrando el numero y el texto como arriba.\n",
    "\n",
    "## Configurar `adb`\n",
    "\n",
    "En general la configuracion de los sistemas \\*NIX puede hacerse en el archivo `~./bashrc`, puede editarse por ejemplo con el siguiente comando\n",
    "\n",
    "    nano ~/.basrch\n",
    "    \n",
    "e incluir, al final del archivo las siguientes instrucciones:\n",
    "\n",
    "    # android.py environment variable\n",
    "    export AP_PORT=9999\n",
    "Salvar el archivo y reiniciar el servidor de libretas de Jupyter ( o e interprete de Python ) para que la nueva variable de entorno sea registrada por el servidor y/o el interprete. Esta ultima operacion es fundamental pues de otro modo no podran establecer el puente entre python y el dispositivo."
   ]
  },
  {
   "cell_type": "markdown",
   "metadata": {},
   "source": [
    "# Windows (en preparacion)\n",
    "\n",
    "En el SO Windows se deben buscar las configuraciones avanzadas del sistema, y poner en la variable %PATH% el siguiente comando"
   ]
  },
  {
   "cell_type": "code",
   "execution_count": null,
   "metadata": {
    "collapsed": true
   },
   "outputs": [],
   "source": []
  }
 ],
 "metadata": {
  "kernelspec": {
   "display_name": "Python [conda root]",
   "language": "python",
   "name": "conda-root-py"
  },
  "language_info": {
   "codemirror_mode": {
    "name": "ipython",
    "version": 2
   },
   "file_extension": ".py",
   "mimetype": "text/x-python",
   "name": "python",
   "nbconvert_exporter": "python",
   "pygments_lexer": "ipython2",
   "version": "2.7.13"
  }
 },
 "nbformat": 4,
 "nbformat_minor": 2
}
