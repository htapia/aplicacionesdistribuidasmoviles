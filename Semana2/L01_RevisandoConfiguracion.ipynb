{
 "cells": [
  {
   "cell_type": "code",
   "execution_count": 1,
   "metadata": {},
   "outputs": [
    {
     "name": "stdout",
     "output_type": "stream",
     "text": [
      "hola mundo\n"
     ]
    }
   ],
   "source": [
    "print \"hola mundo\""
   ]
  },
  {
   "cell_type": "markdown",
   "metadata": {},
   "source": [
    "# Pasos o recetario para conectarse\n",
    "## Suponiendo que ya se tiene SL4A y Py4A en el dispositivo\n",
    "## Suponiendo que 'adb' esta en el PATH del SO\n",
    "## Suponiendo que AP_PORT esta definida como variable de entorno\n",
    "## SUponiendo que android.py esta en un directorio reconocido por PYTHONPATH\n",
    "0. Checar todo lo demas\n",
    "1. conectar el dispositivo a un puerto USB\n",
    "2. verificar que adb lo detecta\n",
    "3. Verificar que la variable de entorno AP_PORT existe\n",
    "4. Iniciar el servicio de Python en el dispositivo\n",
    "4. Crear un puente entre AP_PORT y el servicio de SL4A"
   ]
  },
  {
   "cell_type": "code",
   "execution_count": 18,
   "metadata": {},
   "outputs": [
    {
     "name": "stdout",
     "output_type": "stream",
     "text": [
      "9999\n"
     ]
    }
   ],
   "source": [
    "!echo %AP_PORT%"
   ]
  },
  {
   "cell_type": "code",
   "execution_count": 15,
   "metadata": {},
   "outputs": [
    {
     "name": "stdout",
     "output_type": "stream",
     "text": [
      "List of devices attached\n",
      "09c3400a\tdevice\n",
      "\n"
     ]
    }
   ],
   "source": [
    "# paso 2\n",
    "!adb devices"
   ]
  },
  {
   "cell_type": "code",
   "execution_count": 19,
   "metadata": {},
   "outputs": [],
   "source": [
    "import android"
   ]
  },
  {
   "cell_type": "code",
   "execution_count": 20,
   "metadata": {
    "collapsed": true
   },
   "outputs": [],
   "source": [
    "# asegurarse que el servicio de SL4A esta corriendo en el dispositivo\n",
    "!adb forward tcp:9999 tcp:2222"
   ]
  },
  {
   "cell_type": "code",
   "execution_count": 21,
   "metadata": {
    "collapsed": true
   },
   "outputs": [],
   "source": [
    "droide = android.Android()"
   ]
  },
  {
   "cell_type": "code",
   "execution_count": 22,
   "metadata": {},
   "outputs": [
    {
     "data": {
      "text/plain": [
       "Result(id=0, result=None, error=None)"
      ]
     },
     "execution_count": 22,
     "metadata": {},
     "output_type": "execute_result"
    }
   ],
   "source": [
    "droide.ttsSpeak(\"Una cadena de texto\")"
   ]
  },
  {
   "cell_type": "markdown",
   "metadata": {},
   "source": [
    "Ahor vamos a hacer un programa que lea los datos del sensor de aceleracion, y los grafique."
   ]
  },
  {
   "cell_type": "code",
   "execution_count": 23,
   "metadata": {},
   "outputs": [
    {
     "data": {
      "text/plain": [
       "Result(id=1, result=None, error=None)"
      ]
     },
     "execution_count": 23,
     "metadata": {},
     "output_type": "execute_result"
    }
   ],
   "source": [
    "droide.startSensingTimed(2,100)"
   ]
  },
  {
   "cell_type": "code",
   "execution_count": 25,
   "metadata": {},
   "outputs": [
    {
     "data": {
      "text/plain": [
       "Result(id=3, result=[-1.2348095, 1.6711528, 14.97214], error=None)"
      ]
     },
     "execution_count": 25,
     "metadata": {},
     "output_type": "execute_result"
    }
   ],
   "source": [
    "droide.sensorsReadAccelerometer()"
   ]
  },
  {
   "cell_type": "code",
   "execution_count": 45,
   "metadata": {},
   "outputs": [],
   "source": [
    "aceleracion = []\n",
    "tiempoCensado = 0.\n",
    "tiempoTotal = 3000\n",
    "\n",
    "droide.startSensingTimed(2,100)\n",
    "while tiempoCensado <= tiempoTotal:\n",
    "    aceleracion.append(droide.sensorsReadAccelerometer().result)\n",
    "    tiempoCensado += 100\n",
    "droide.stopSensing();"
   ]
  },
  {
   "cell_type": "code",
   "execution_count": 31,
   "metadata": {},
   "outputs": [
    {
     "data": {
      "text/plain": [
       "31"
      ]
     },
     "execution_count": 31,
     "metadata": {},
     "output_type": "execute_result"
    }
   ],
   "source": [
    "len(aceleracion)"
   ]
  },
  {
   "cell_type": "code",
   "execution_count": 46,
   "metadata": {
    "collapsed": true
   },
   "outputs": [
    {
     "data": {
      "text/plain": [
       "[[1.816002, -0.6536171, -3.9534256],\n",
       " [1.816002, -0.6536171, -3.9534256],\n",
       " [1.816002, -0.6536171, -3.9534256],\n",
       " [1.816002, -0.6536171, -3.9534256],\n",
       " [1.816002, -0.6536171, -3.9534256],\n",
       " [1.816002, -0.6536171, -3.9534256],\n",
       " [1.816002, -0.6536171, -3.9534256],\n",
       " [1.816002, -0.6536171, -3.9534256],\n",
       " [1.816002, -0.6536171, -3.9534256],\n",
       " [1.816002, -0.6536171, -3.9534256],\n",
       " [1.816002, -0.6536171, -3.9534256],\n",
       " [1.816002, -0.6536171, -3.9534256],\n",
       " [1.816002, -0.6536171, -3.9534256],\n",
       " [1.816002, -0.6536171, -3.9534256],\n",
       " [1.816002, -0.6536171, -3.9534256],\n",
       " [1.816002, -0.6536171, -3.9534256],\n",
       " [1.816002, -0.6536171, -3.9534256],\n",
       " [1.816002, -0.6536171, -3.9534256],\n",
       " [-17.961302, -8.3868885, 19.612701],\n",
       " [-17.961302, -8.3868885, 19.612701],\n",
       " [-17.961302, -8.3868885, 19.612701],\n",
       " [-17.961302, -8.3868885, 19.612701],\n",
       " [-5.5060654, -4.6483426, 17.324444],\n",
       " [-5.5060654, -4.6483426, 17.324444],\n",
       " [-5.5060654, -4.6483426, 17.324444],\n",
       " [-5.5060654, -4.6483426, 17.324444],\n",
       " [-5.5060654, -4.6483426, 17.324444],\n",
       " [4.159327, -3.5913026, 12.0410385],\n",
       " [4.159327, -3.5913026, 12.0410385],\n",
       " [4.159327, -3.5913026, 12.0410385],\n",
       " [4.159327, -3.5913026, 12.0410385]]"
      ]
     },
     "execution_count": 46,
     "metadata": {},
     "output_type": "execute_result"
    }
   ],
   "source": [
    "aceleracion"
   ]
  },
  {
   "cell_type": "code",
   "execution_count": 36,
   "metadata": {
    "collapsed": true
   },
   "outputs": [],
   "source": [
    "import pandas as pd"
   ]
  },
  {
   "cell_type": "code",
   "execution_count": 37,
   "metadata": {
    "collapsed": true
   },
   "outputs": [],
   "source": [
    "%matplotlib inline"
   ]
  },
  {
   "cell_type": "code",
   "execution_count": 47,
   "metadata": {},
   "outputs": [],
   "source": [
    "acel=pd.DataFrame(aceleracion, columns=[\"x\",\"y\",\"z\"])"
   ]
  },
  {
   "cell_type": "code",
   "execution_count": 48,
   "metadata": {},
   "outputs": [
    {
     "data": {
      "text/plain": [
       "<matplotlib.axes._subplots.AxesSubplot at 0xbdb2080>"
      ]
     },
     "execution_count": 48,
     "metadata": {},
     "output_type": "execute_result"
    },
    {
     "data": {
      "image/png": "[encoded data removed]",
      "text/plain": [
       "<matplotlib.figure.Figure at 0xc8feb38>"
      ]
     },
     "metadata": {},
     "output_type": "display_data"
    }
   ],
   "source": [
    "acel.plot()"
   ]
  },
  {
   "cell_type": "markdown",
   "metadata": {},
   "source": [
    "Ahoa vamos a mejor nuestro codigo para tener lecturas entre caad incremento del tiempo y para que sea una funcion que podamos invocar cuando queramos"
   ]
  },
  {
   "cell_type": "code",
   "execution_count": 49,
   "metadata": {
    "collapsed": true
   },
   "outputs": [],
   "source": [
    "import pandas as pd\n",
    "import time\n",
    "%matplotlib inline\n",
    "\n",
    "def capturaDatosAceleracion():\n",
    "    \"\"\"\n",
    "            Una funcion simple que registra lecturas del acelerometro y las\n",
    "            guarda en un DataFrame de pandas\n",
    "    \"\"\"\n",
    "    aceleracion = []\n",
    "    tiempoCensado = 0.\n",
    "    tiempoTotal = 3000\n",
    "\n",
    "    droide.startSensingTimed(2,100)\n",
    "    \n",
    "    while tiempoCensado <= tiempoTotal:\n",
    "        aceleracion.append(droide.sensorsReadAccelerometer().result)\n",
    "        time.sleep(100/1000.00)\n",
    "        tiempoCensado += 100\n",
    "    droide.stopSensing();\n",
    "    \n",
    "    return pd.DataFrame(aceleracion, columns=[\"Ax\",\"Ay\",\"Az\"])"
   ]
  },
  {
   "cell_type": "code",
   "execution_count": 52,
   "metadata": {},
   "outputs": [
    {
     "data": {
      "text/plain": [
       "<matplotlib.axes._subplots.AxesSubplot at 0xcf5dbe0>"
      ]
     },
     "execution_count": 52,
     "metadata": {},
     "output_type": "execute_result"
    },
    {
     "data": {
      "image/png": "[encoded data removed]",
      "text/plain": [
       "<matplotlib.figure.Figure at 0xd01f278>"
      ]
     },
     "metadata": {},
     "output_type": "display_data"
    }
   ],
   "source": [
    "acel=capturaDatosAceleracion()\n",
    "acel.plot()"
   ]
  },
  {
   "cell_type": "code",
   "execution_count": null,
   "metadata": {
    "collapsed": true
   },
   "outputs": [],
   "source": []
  }
 ],
 "metadata": {
  "kernelspec": {
   "display_name": "Python 2",
   "language": "python",
   "name": "python2"
  },
  "language_info": {
   "codemirror_mode": {
    "name": "ipython",
    "version": 2
   },
   "file_extension": ".py",
   "mimetype": "text/x-python",
   "name": "python",
   "nbconvert_exporter": "python",
   "pygments_lexer": "ipython2",
   "version": "2.7.13"
  }
 },
 "nbformat": 4,
 "nbformat_minor": 2
}
