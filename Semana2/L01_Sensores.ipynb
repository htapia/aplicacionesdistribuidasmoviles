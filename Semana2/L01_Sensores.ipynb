{
 "cells": [
  {
   "cell_type": "markdown",
   "metadata": {},
   "source": [
    "# Accediendo sensores\n",
    "\n",
    "Los dispositivos modernos contienen arreglos de sensores embebidos. Una de las funcionalidades de acceder programaticamente al dispositivo usando Python es que podemos interactuar directamente con los sensores. En esta libreta vamos a aprender como determinar que sensores se tienen en el dispositivo y como tomar lecturas de ellos. Posterioremente usaremos estas lecturas para algunas aplicaciones.\n",
    "\n",
    "Comenzaremos con determinar que sensores se tienen en el dispositivo. Para esto usaremos las funciones disponibles en la fachada de sensores [SensorManagerFacade](https://github.com/kuri65536/sl4a/blob/master/docs/ApiReference.md#startsensingtimed)."
   ]
  },
  {
   "cell_type": "code",
   "execution_count": 28,
   "metadata": {},
   "outputs": [
    {
     "name": "stdout",
     "output_type": "stream",
     "text": [
      "List of devices attached\r\n",
      "09c3400a\tdevice\r\n",
      "\r\n"
     ]
    }
   ],
   "source": [
    "!adb devices && adb forward tcp:9999 tcp:2222"
   ]
  },
  {
   "cell_type": "code",
   "execution_count": 29,
   "metadata": {},
   "outputs": [
    {
     "data": {
      "text/plain": [
       "Result(id=0, result=None, error=None)"
      ]
     },
     "execution_count": 29,
     "metadata": {},
     "output_type": "execute_result"
    }
   ],
   "source": [
    "import android\n",
    "droid = android.Android()\n",
    "droid.ttsSpeak(\"Listo para recibir instrucciones\")"
   ]
  },
  {
   "cell_type": "markdown",
   "metadata": {},
   "source": [
    "Para acceder a los sensores es necesario iniciar la lectura de los sensores con la funcion `startSensingTimed` que espera dos argumentos de entrada; el primero de ellos se refiere a cual sensor se quiere tomar lectura (1=Todos, 2=Acelerometro, 3=Magnetometro y 4=Iluminacion; estos cuatro son los sensores mas comunes que hay en la mayoria de los dispositivos). El segundo argumento de la funcion es el tiempo maximo entre lecturas en milisegundos.\n",
    "\n",
    "Esta funcion comienza a tomar lectura de los sensores y poniendolos a disposicion para que puedan ser obtenidos usando funciones individuales.\n",
    "\n",
    "Vamos a comenzar iniciando las lecturas de todos los sensores (primer argumento de la funcion 1) cada 250 milisegundos:\n",
    "\n",
    "**NOTA: colocar el dispositivo en un estado de monitoreo y lectura de los sensores puede disminuir considerablemente la bateria.**"
   ]
  },
  {
   "cell_type": "code",
   "execution_count": 19,
   "metadata": {},
   "outputs": [
    {
     "data": {
      "text/plain": [
       "Result(id=1, result=None, error=None)"
      ]
     },
     "execution_count": 19,
     "metadata": {},
     "output_type": "execute_result"
    }
   ],
   "source": [
    "droid.startSensingTimed(1, 250)"
   ]
  },
  {
   "cell_type": "markdown",
   "metadata": {},
   "source": [
    "Ahora podemos conocer los valores mas recientes obtenidos por los sensores. El diccionario depende de los sensores disponibles en su modelo de dispositivo."
   ]
  },
  {
   "cell_type": "code",
   "execution_count": 12,
   "metadata": {
    "scrolled": true
   },
   "outputs": [
    {
     "data": {
      "text/plain": [
       "{u'accuracy': 3,\n",
       " u'azimuth': -1.930684208869934,\n",
       " u'gravity-0': 0.276544451713562,\n",
       " u'gravity-1': -0.2517387270927429,\n",
       " u'gravity-2': 9.799517631530762,\n",
       " u'light': 610,\n",
       " u'light-0': 0.03701794147491455,\n",
       " u'light-1': 0.02503371424973011,\n",
       " u'light-2': 0.006657903082668781,\n",
       " u'linear_acceleration-0': -0.009590953588485718,\n",
       " u'linear_acceleration-1': -0.0044408440589904785,\n",
       " u'linear_acceleration-2': -0.15866565704345703,\n",
       " u'pitch': 0.026555869728326797,\n",
       " u'proximity-0': 5,\n",
       " u'proximity-1': 0,\n",
       " u'proximity-2': 0,\n",
       " u'roll': -0.027682749554514885,\n",
       " u'rotation_vector-0': 0.004275947343558073,\n",
       " u'rotation_vector-1': -0.018584778532385826,\n",
       " u'rotation_vector-2': 0.8216828107833862,\n",
       " u'time': 1521573196.532,\n",
       " u'xMag': 33.88,\n",
       " u'xforce': 0.2669535,\n",
       " u'yMag': -11.66,\n",
       " u'yforce': -0.25617957,\n",
       " u'zMag': -68.97,\n",
       " u'zforce': 9.640852}"
      ]
     },
     "execution_count": 12,
     "metadata": {},
     "output_type": "execute_result"
    }
   ],
   "source": [
    "droid.readSensors().result"
   ]
  },
  {
   "cell_type": "markdown",
   "metadata": {},
   "source": [
    "Es conveniente detener la colecta de datos de los sensores si no se esta accediendo a ellos"
   ]
  },
  {
   "cell_type": "code",
   "execution_count": 23,
   "metadata": {},
   "outputs": [
    {
     "data": {
      "text/plain": [
       "Result(id=16, result=None, error=None)"
      ]
     },
     "execution_count": 23,
     "metadata": {},
     "output_type": "execute_result"
    }
   ],
   "source": [
    "droid.stopSensing()"
   ]
  },
  {
   "cell_type": "code",
   "execution_count": 30,
   "metadata": {},
   "outputs": [
    {
     "data": {
      "text/plain": [
       "Result(id=8, result=None, error=None)"
      ]
     },
     "execution_count": 30,
     "metadata": {},
     "output_type": "execute_result"
    }
   ],
   "source": [
    "droid.startSensingTimed(1, 250)\n",
    "time.sleep(1)\n",
    "s1 = droid.readSensors().result\n",
    "s2 = droid.sensorsGetAccuracy().result\n",
    "s3 = droid.sensorsGetLight().result\n",
    "s4 = droid.sensorsReadAccelerometer().result\n",
    "s5 = droid.sensorsReadMagnetometer().result\n",
    "s6 = droid.sensorsReadOrientation().result\n",
    "droid.stopSensing()"
   ]
  },
  {
   "cell_type": "code",
   "execution_count": 34,
   "metadata": {},
   "outputs": [
    {
     "name": "stdout",
     "output_type": "stream",
     "text": [
      "{u'gravity-0': 0.251376211643219, u'gravity-1': -0.050671547651290894, u'gravity-2': 9.80329704284668, u'xMag': 49, u'pitch': 0.028906095772981644, u'zforce': 9.636662, u'proximity-2': 0, u'proximity-1': 0, u'proximity-0': 5, u'xforce': 0.43873745, u'linear_acceleration-0': 0.1873612403869629, u'linear_acceleration-1': -0.22825294733047485, u'linear_acceleration-2': -0.16663551330566406, u'zMag': -68.5, u'rotation_vector-2': 0.8185495734214783, u'roll': -0.045496534556150436, u'rotation_vector-0': 0.009008890017867088, u'rotation_vector-1': -0.009476786479353905, u'magnetic_field-0': 250.110107421875, u'magnetic_field-1': 0.2960520088672638, u'magnetic_field-2': 1.4688568115234375, u'azimuth': -1.9359761476516724, u'light-0': 0.035952676087617874, u'light-1': 0.02822950854897499, u'light-2': 0.004793690051883459, u'yMag': -18, u'light': 604, u'yforce': -0.2789245, u'time': 1521573909.293, u'accuracy': 3}\n",
      "3\n",
      "604\n"
     ]
    }
   ],
   "source": [
    "print s1\n",
    "print s2\n",
    "print s3"
   ]
  },
  {
   "cell_type": "markdown",
   "metadata": {},
   "source": [
    "Ahora vamos a hacer un programa que lea los datos del sensor de aceleracion, y los grafique. Este programa no puede reproducirse en el dispositivo por la libreria que usaremos para graficar los valores de aceleracion."
   ]
  },
  {
   "cell_type": "code",
   "execution_count": 38,
   "metadata": {
    "collapsed": true
   },
   "outputs": [],
   "source": [
    "# definimos una lista para guardar las lecturas e inicializamos tiempos \n",
    "aceleracion = []\n",
    "tiempoCensado = 0.\n",
    "tiempoTotal = 3000 # 3 segundos de datos"
   ]
  },
  {
   "cell_type": "code",
   "execution_count": 42,
   "metadata": {},
   "outputs": [
    {
     "data": {
      "text/plain": [
       "Result(id=47, result=None, error=None)"
      ]
     },
     "execution_count": 42,
     "metadata": {},
     "output_type": "execute_result"
    }
   ],
   "source": [
    "# comenzaremos a el censado con opcion 2=Acelerometro en intervalos de 100 milisegundos\n",
    "droid.startSensingTimed(2,100)\n",
    "while tiempoCensado <= tiempoTotal:\n",
    "    aceleracion.append(droid.sensorsReadAccelerometer().result) # lectura de valores\n",
    "    tiempoCensado += 100 # incrementa tiempoCensado \n",
    "droid.stopSensing()"
   ]
  },
  {
   "cell_type": "markdown",
   "metadata": {},
   "source": [
    "La siguiente celda importa `pandas` una libreria especializada para manipular datos; la segunda linea permite desplegar graficas en las libretas"
   ]
  },
  {
   "cell_type": "code",
   "execution_count": 45,
   "metadata": {
    "collapsed": true
   },
   "outputs": [],
   "source": [
    "import pandas as pd\n",
    "%matplotlib inline"
   ]
  },
  {
   "cell_type": "markdown",
   "metadata": {},
   "source": [
    "Creamos una estructura en `pandas` llamada `DataFrame` para contener los datos. Esta estructura tiene muchas funciones utiles que permiten trabajar de forma eficiente con (grandes) datos. Una de ellas es `plot()`."
   ]
  },
  {
   "cell_type": "code",
   "execution_count": 46,
   "metadata": {},
   "outputs": [],
   "source": [
    "acel=pd.DataFrame(aceleracion, columns=[\"x\",\"y\",\"z\"])"
   ]
  },
  {
   "cell_type": "code",
   "execution_count": 47,
   "metadata": {},
   "outputs": [
    {
     "data": {
      "text/plain": [
       "<matplotlib.axes._subplots.AxesSubplot at 0x7ff5313017d0>"
      ]
     },
     "execution_count": 47,
     "metadata": {},
     "output_type": "execute_result"
    },
    {
     "data": {
      "image/png": "[encoded data removed]",
      "text/plain": [
       "<matplotlib.figure.Figure at 0x7ff531603ed0>"
      ]
     },
     "metadata": {},
     "output_type": "display_data"
    }
   ],
   "source": [
    "acel.plot()"
   ]
  },
  {
   "cell_type": "markdown",
   "metadata": {},
   "source": [
    "# Ejercicio\n",
    "vuelvan a capturar datos de aceleracion pero muevan el dispositivo mientras lo hacen y grafiquen. Que observan?"
   ]
  }
 ],
 "metadata": {
  "kernelspec": {
   "display_name": "Python [conda root]",
   "language": "python",
   "name": "conda-root-py"
  },
  "language_info": {
   "codemirror_mode": {
    "name": "ipython",
    "version": 2
   },
   "file_extension": ".py",
   "mimetype": "text/x-python",
   "name": "python",
   "nbconvert_exporter": "python",
   "pygments_lexer": "ipython2",
   "version": "2.7.13"
  }
 },
 "nbformat": 4,
 "nbformat_minor": 2
}
