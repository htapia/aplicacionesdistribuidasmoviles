{
 "cells": [
  {
   "cell_type": "markdown",
   "metadata": {},
   "source": [
    "# Algunas librerias\n",
    "Esta libreta muestra como se emplean algunas de las librerias disponibles en las API. La documentacion completa puede encontrarse en los siguietnes enlaces:\n",
    " \n",
    " * https://github.com/damonkohler/sl4a/blob/wiki/ApiReference.md\n",
    " * http://www.mithril.com.au/android/doc/\n",
    " * https://kylelk.github.io/html-examples/androidhelper.html"
   ]
  },
  {
   "cell_type": "markdown",
   "metadata": {},
   "source": [
    "Ahora conoceremos un poco mas de los sensores en nuestro dispositivo y exploraremos la fachada de sensores o SensorManagerFacade"
   ]
  },
  {
   "cell_type": "code",
   "execution_count": 23,
   "metadata": {
    "collapsed": true
   },
   "outputs": [],
   "source": [
    "!adb forward tcp:9999 tcp:2222"
   ]
  },
  {
   "cell_type": "code",
   "execution_count": 24,
   "metadata": {
    "collapsed": true
   },
   "outputs": [],
   "source": [
    "import android\n",
    "droide = android.Android()"
   ]
  },
  {
   "cell_type": "code",
   "execution_count": 25,
   "metadata": {},
   "outputs": [
    {
     "data": {
      "text/plain": [
       "Result(id=0, result=None, error=None)"
      ]
     },
     "execution_count": 25,
     "metadata": {},
     "output_type": "execute_result"
    }
   ],
   "source": [
    "droide.makeToast(\"Un mensaje de texto\")"
   ]
  },
  {
   "cell_type": "markdown",
   "metadata": {},
   "source": [
    "## Acceso a sensores"
   ]
  },
  {
   "cell_type": "code",
   "execution_count": 30,
   "metadata": {},
   "outputs": [
    {
     "data": {
      "text/plain": [
       "Result(id=3, result=None, error=None)"
      ]
     },
     "execution_count": 30,
     "metadata": {},
     "output_type": "execute_result"
    }
   ],
   "source": [
    "droide.startSensingTimed(1,250)"
   ]
  },
  {
   "cell_type": "code",
   "execution_count": 15,
   "metadata": {
    "collapsed": true
   },
   "outputs": [
    {
     "data": {
      "text/plain": [
       "{u'accuracy': 3,\n",
       " u'azimuth': 1.9323788642883302,\n",
       " u'gravity-0': -0.26626449823379517,\n",
       " u'gravity-1': 0.5040551424026489,\n",
       " u'gravity-2': 9.790067672729492,\n",
       " u'light': 42,\n",
       " u'light-0': 0.03328951448202133,\n",
       " u'light-1': 0.026631612330675125,\n",
       " u'light-2': -0.0007989483419805765,\n",
       " u'linear_acceleration-0': 0.4170992076396942,\n",
       " u'linear_acceleration-1': -0.40828707814216614,\n",
       " u'linear_acceleration-2': -0.3838481903076172,\n",
       " u'magnetic_field-0': 103.54656219482422,\n",
       " u'magnetic_field-1': -2.9462621212005615,\n",
       " u'magnetic_field-2': -1.557912826538086,\n",
       " u'pitch': -0.01017969474196434,\n",
       " u'proximity-0': 5,\n",
       " u'proximity-1': 0,\n",
       " u'proximity-2': 0,\n",
       " u'roll': -0.016034262254834175,\n",
       " u'rotation_vector-0': 0.026582302525639534,\n",
       " u'rotation_vector-1': -0.011784246191382408,\n",
       " u'rotation_vector-2': -0.7850204110145569,\n",
       " u'time': 1521310261.576,\n",
       " u'xMag': -29.6,\n",
       " u'xforce': 0.15083471,\n",
       " u'yMag': -11.6,\n",
       " u'yforce': 0.095768064,\n",
       " u'zMag': -75.5,\n",
       " u'zforce': 9.4062195}"
      ]
     },
     "execution_count": 15,
     "metadata": {},
     "output_type": "execute_result"
    }
   ],
   "source": [
    "droide.readSensors().result"
   ]
  },
  {
   "cell_type": "code",
   "execution_count": 16,
   "metadata": {},
   "outputs": [
    {
     "data": {
      "text/plain": [
       "Result(id=2, result=3, error=None)"
      ]
     },
     "execution_count": 16,
     "metadata": {},
     "output_type": "execute_result"
    }
   ],
   "source": [
    "droide.sensorsGetAccuracy()"
   ]
  },
  {
   "cell_type": "code",
   "execution_count": 20,
   "metadata": {},
   "outputs": [
    {
     "data": {
      "text/plain": [
       "41"
      ]
     },
     "execution_count": 20,
     "metadata": {},
     "output_type": "execute_result"
    }
   ],
   "source": [
    "droide.sensorsGetLight().result"
   ]
  },
  {
   "cell_type": "code",
   "execution_count": 21,
   "metadata": {},
   "outputs": [
    {
     "data": {
      "text/plain": [
       "[0.11552023, -0.02932897, 9.580399]"
      ]
     },
     "execution_count": 21,
     "metadata": {},
     "output_type": "execute_result"
    }
   ],
   "source": [
    "droide.sensorsReadAccelerometer().result"
   ]
  },
  {
   "cell_type": "code",
   "execution_count": 22,
   "metadata": {},
   "outputs": [
    {
     "data": {
      "text/plain": [
       "[-34.3, -14.8, -96.6]"
      ]
     },
     "execution_count": 22,
     "metadata": {},
     "output_type": "execute_result"
    }
   ],
   "source": [
    "droide.sensorsReadMagnetometer().result"
   ]
  },
  {
   "cell_type": "code",
   "execution_count": 23,
   "metadata": {},
   "outputs": [
    {
     "data": {
      "text/plain": [
       "[2.0028035163879396, 0.005983170890249312, -0.007628317398484796]"
      ]
     },
     "execution_count": 23,
     "metadata": {},
     "output_type": "execute_result"
    }
   ],
   "source": [
    "droide.sensorsReadOrientation().result"
   ]
  },
  {
   "cell_type": "code",
   "execution_count": 34,
   "metadata": {
    "collapsed": true
   },
   "outputs": [
    {
     "ename": "error",
     "evalue": "[Errno 10053] Se ha anulado una conexión establecida por el software en su equipo host",
     "output_type": "error",
     "traceback": [
      "\u001b[1;31m\u001b[0m",
      "\u001b[1;31merror\u001b[0mTraceback (most recent call last)",
      "\u001b[1;32m<ipython-input-34-863f40b66b44>\u001b[0m in \u001b[0;36m<module>\u001b[1;34m()\u001b[0m\n\u001b[1;32m----> 1\u001b[1;33m \u001b[0mdroide\u001b[0m\u001b[1;33m.\u001b[0m\u001b[0mstopSensing\u001b[0m\u001b[1;33m(\u001b[0m\u001b[1;33m)\u001b[0m\u001b[1;33m\u001b[0m\u001b[0m\n\u001b[0m",
      "\u001b[1;32mC:\\Users\\LANIA\\.ipython\\android.pyc\u001b[0m in \u001b[0;36mrpc_call\u001b[1;34m(*args)\u001b[0m\n\u001b[0;32m     56\u001b[0m   \u001b[1;32mdef\u001b[0m \u001b[0m__getattr__\u001b[0m\u001b[1;33m(\u001b[0m\u001b[0mself\u001b[0m\u001b[1;33m,\u001b[0m \u001b[0mname\u001b[0m\u001b[1;33m)\u001b[0m\u001b[1;33m:\u001b[0m\u001b[1;33m\u001b[0m\u001b[0m\n\u001b[0;32m     57\u001b[0m     \u001b[1;32mdef\u001b[0m \u001b[0mrpc_call\u001b[0m\u001b[1;33m(\u001b[0m\u001b[1;33m*\u001b[0m\u001b[0margs\u001b[0m\u001b[1;33m)\u001b[0m\u001b[1;33m:\u001b[0m\u001b[1;33m\u001b[0m\u001b[0m\n\u001b[1;32m---> 58\u001b[1;33m       \u001b[1;32mreturn\u001b[0m \u001b[0mself\u001b[0m\u001b[1;33m.\u001b[0m\u001b[0m_rpc\u001b[0m\u001b[1;33m(\u001b[0m\u001b[0mname\u001b[0m\u001b[1;33m,\u001b[0m \u001b[1;33m*\u001b[0m\u001b[0margs\u001b[0m\u001b[1;33m)\u001b[0m\u001b[1;33m\u001b[0m\u001b[0m\n\u001b[0m\u001b[0;32m     59\u001b[0m     \u001b[1;32mreturn\u001b[0m \u001b[0mrpc_call\u001b[0m\u001b[1;33m\u001b[0m\u001b[0m\n",
      "\u001b[1;32mC:\\Users\\LANIA\\.ipython\\android.pyc\u001b[0m in \u001b[0;36m_rpc\u001b[1;34m(self, method, *args)\u001b[0m\n\u001b[0;32m     45\u001b[0m     \u001b[0mself\u001b[0m\u001b[1;33m.\u001b[0m\u001b[0mclient\u001b[0m\u001b[1;33m.\u001b[0m\u001b[0mwrite\u001b[0m\u001b[1;33m(\u001b[0m\u001b[0mrequest\u001b[0m\u001b[1;33m+\u001b[0m\u001b[1;34m'\\n'\u001b[0m\u001b[1;33m)\u001b[0m\u001b[1;33m\u001b[0m\u001b[0m\n\u001b[0;32m     46\u001b[0m     \u001b[0mself\u001b[0m\u001b[1;33m.\u001b[0m\u001b[0mclient\u001b[0m\u001b[1;33m.\u001b[0m\u001b[0mflush\u001b[0m\u001b[1;33m(\u001b[0m\u001b[1;33m)\u001b[0m\u001b[1;33m\u001b[0m\u001b[0m\n\u001b[1;32m---> 47\u001b[1;33m     \u001b[0mresponse\u001b[0m \u001b[1;33m=\u001b[0m \u001b[0mself\u001b[0m\u001b[1;33m.\u001b[0m\u001b[0mclient\u001b[0m\u001b[1;33m.\u001b[0m\u001b[0mreadline\u001b[0m\u001b[1;33m(\u001b[0m\u001b[1;33m)\u001b[0m\u001b[1;33m\u001b[0m\u001b[0m\n\u001b[0m\u001b[0;32m     48\u001b[0m     \u001b[0mself\u001b[0m\u001b[1;33m.\u001b[0m\u001b[0mid\u001b[0m \u001b[1;33m+=\u001b[0m \u001b[1;36m1\u001b[0m\u001b[1;33m\u001b[0m\u001b[0m\n\u001b[0;32m     49\u001b[0m     \u001b[0mresult\u001b[0m \u001b[1;33m=\u001b[0m \u001b[0mjson\u001b[0m\u001b[1;33m.\u001b[0m\u001b[0mloads\u001b[0m\u001b[1;33m(\u001b[0m\u001b[0mresponse\u001b[0m\u001b[1;33m)\u001b[0m\u001b[1;33m\u001b[0m\u001b[0m\n",
      "\u001b[1;32mC:\\Users\\LANIA\\Anaconda2\\lib\\socket.pyc\u001b[0m in \u001b[0;36mreadline\u001b[1;34m(self, size)\u001b[0m\n\u001b[0;32m    449\u001b[0m             \u001b[1;32mwhile\u001b[0m \u001b[0mTrue\u001b[0m\u001b[1;33m:\u001b[0m\u001b[1;33m\u001b[0m\u001b[0m\n\u001b[0;32m    450\u001b[0m                 \u001b[1;32mtry\u001b[0m\u001b[1;33m:\u001b[0m\u001b[1;33m\u001b[0m\u001b[0m\n\u001b[1;32m--> 451\u001b[1;33m                     \u001b[0mdata\u001b[0m \u001b[1;33m=\u001b[0m \u001b[0mself\u001b[0m\u001b[1;33m.\u001b[0m\u001b[0m_sock\u001b[0m\u001b[1;33m.\u001b[0m\u001b[0mrecv\u001b[0m\u001b[1;33m(\u001b[0m\u001b[0mself\u001b[0m\u001b[1;33m.\u001b[0m\u001b[0m_rbufsize\u001b[0m\u001b[1;33m)\u001b[0m\u001b[1;33m\u001b[0m\u001b[0m\n\u001b[0m\u001b[0;32m    452\u001b[0m                 \u001b[1;32mexcept\u001b[0m \u001b[0merror\u001b[0m\u001b[1;33m,\u001b[0m \u001b[0me\u001b[0m\u001b[1;33m:\u001b[0m\u001b[1;33m\u001b[0m\u001b[0m\n\u001b[0;32m    453\u001b[0m                     \u001b[1;32mif\u001b[0m \u001b[0me\u001b[0m\u001b[1;33m.\u001b[0m\u001b[0margs\u001b[0m\u001b[1;33m[\u001b[0m\u001b[1;36m0\u001b[0m\u001b[1;33m]\u001b[0m \u001b[1;33m==\u001b[0m \u001b[0mEINTR\u001b[0m\u001b[1;33m:\u001b[0m\u001b[1;33m\u001b[0m\u001b[0m\n",
      "\u001b[1;31merror\u001b[0m: [Errno 10053] Se ha anulado una conexión establecida por el software en su equipo host"
     ]
    }
   ],
   "source": [
    "droide.stopSensing()"
   ]
  },
  {
   "cell_type": "markdown",
   "metadata": {},
   "source": [
    "## WifiFacade"
   ]
  },
  {
   "cell_type": "code",
   "execution_count": 51,
   "metadata": {},
   "outputs": [
    {
     "data": {
      "text/plain": [
       "True"
      ]
     },
     "execution_count": 51,
     "metadata": {},
     "output_type": "execute_result"
    }
   ],
   "source": [
    "droide.checkWifiState().result"
   ]
  },
  {
   "cell_type": "code",
   "execution_count": 45,
   "metadata": {},
   "outputs": [
    {
     "data": {
      "text/plain": [
       "True"
      ]
     },
     "execution_count": 45,
     "metadata": {},
     "output_type": "execute_result"
    }
   ],
   "source": [
    "droide.toggleWifiState().result"
   ]
  },
  {
   "cell_type": "code",
   "execution_count": 52,
   "metadata": {
    "scrolled": true
   },
   "outputs": [
    {
     "data": {
      "text/plain": [
       "[{u'bssid': u'fc:99:47:2a:ed:c3',\n",
       "  u'capabilities': u'[WPA-PSK-CCMP+TKIP][WPA2-PSK-CCMP+TKIP][ESS]',\n",
       "  u'frequency': 2412,\n",
       "  u'level': -49,\n",
       "  u'ssid': u'PubliLANIA'},\n",
       " {u'bssid': u'fc:99:47:2a:ed:c1',\n",
       "  u'capabilities': u'[WPA-PSK-CCMP+TKIP][WPA2-PSK-CCMP+TKIP][ESS]',\n",
       "  u'frequency': 2412,\n",
       "  u'level': -50,\n",
       "  u'ssid': u'WiFiLANIA'},\n",
       " {u'bssid': u'fc:99:47:2a:ed:c0',\n",
       "  u'capabilities': u'[WPA2-PSK-CCMP][WPS][ESS]',\n",
       "  u'frequency': 2412,\n",
       "  u'level': -49,\n",
       "  u'ssid': u'Admin'},\n",
       " {u'bssid': u'fc:99:47:2a:ed:c6',\n",
       "  u'capabilities': u'[WPA2-PSK-CCMP+TKIP][ESS]',\n",
       "  u'frequency': 2412,\n",
       "  u'level': -49,\n",
       "  u'ssid': u'ILANIA'},\n",
       " {u'bssid': u'fc:99:47:2a:ed:c2',\n",
       "  u'capabilities': u'[WPA-PSK-CCMP+TKIP][WPA2-PSK-CCMP+TKIP][ESS]',\n",
       "  u'frequency': 2412,\n",
       "  u'level': -50,\n",
       "  u'ssid': u'EduLANIA'},\n",
       " {u'bssid': u'fc:99:47:2a:ed:c4',\n",
       "  u'capabilities': u'[WPA-PSK-CCMP+TKIP][WPA2-PSK-CCMP+TKIP][ESS]',\n",
       "  u'frequency': 2412,\n",
       "  u'level': -50,\n",
       "  u'ssid': u'DCI'},\n",
       " {u'bssid': u'24:e9:b3:5e:87:b4',\n",
       "  u'capabilities': u'[WPA-PSK-CCMP+TKIP][WPA2-PSK-CCMP+TKIP][ESS]',\n",
       "  u'frequency': 2437,\n",
       "  u'level': -87,\n",
       "  u'ssid': u'DCI'},\n",
       " {u'bssid': u'24:e9:b3:5e:87:b0',\n",
       "  u'capabilities': u'[WPA2-PSK-CCMP][WPS][ESS]',\n",
       "  u'frequency': 2437,\n",
       "  u'level': -87,\n",
       "  u'ssid': u'Admin'},\n",
       " {u'bssid': u'24:e9:b3:5e:87:b6',\n",
       "  u'capabilities': u'[WPA2-PSK-CCMP+TKIP][ESS]',\n",
       "  u'frequency': 2437,\n",
       "  u'level': -87,\n",
       "  u'ssid': u'ILANIA'}]"
      ]
     },
     "execution_count": 52,
     "metadata": {},
     "output_type": "execute_result"
    }
   ],
   "source": [
    "droide.wifiGetScanResults().result"
   ]
  },
  {
   "cell_type": "code",
   "execution_count": 49,
   "metadata": {},
   "outputs": [
    {
     "data": {
      "text/plain": [
       "True"
      ]
     },
     "execution_count": 49,
     "metadata": {},
     "output_type": "execute_result"
    }
   ],
   "source": [
    "droide.wifiStartScan().result"
   ]
  },
  {
   "cell_type": "code",
   "execution_count": 12,
   "metadata": {
    "collapsed": true
   },
   "outputs": [],
   "source": [
    "scan=droide.wifiGetConnectionInfo().result"
   ]
  },
  {
   "cell_type": "code",
   "execution_count": 14,
   "metadata": {},
   "outputs": [
    {
     "data": {
      "text/plain": [
       "[u'ssid',\n",
       " u'bssid',\n",
       " u'network_id',\n",
       " u'supplicant_state',\n",
       " u'link_speed',\n",
       " u'mac_address',\n",
       " u'rssi',\n",
       " u'ip_address',\n",
       " u'hidden_ssid']"
      ]
     },
     "execution_count": 14,
     "metadata": {},
     "output_type": "execute_result"
    }
   ],
   "source": [
    "scan.keys()"
   ]
  },
  {
   "cell_type": "markdown",
   "metadata": {},
   "source": [
    "Podemos conocer la direccion IP del dispositivo en la red"
   ]
  },
  {
   "cell_type": "code",
   "execution_count": 18,
   "metadata": {},
   "outputs": [
    {
     "data": {
      "text/plain": [
       "-1369134912"
      ]
     },
     "execution_count": 18,
     "metadata": {},
     "output_type": "execute_result"
    }
   ],
   "source": [
    "scan.get('ip_address',0.0)"
   ]
  },
  {
   "cell_type": "markdown",
   "metadata": {},
   "source": [
    "Para convertir el numero a una direccion podemos hacer lo siguiente"
   ]
  },
  {
   "cell_type": "code",
   "execution_count": 21,
   "metadata": {
    "collapsed": true
   },
   "outputs": [],
   "source": [
    "import socket\n",
    "import struct"
   ]
  },
  {
   "cell_type": "code",
   "execution_count": 22,
   "metadata": {},
   "outputs": [
    {
     "data": {
      "text/plain": [
       "'192.168.100.174'"
      ]
     },
     "execution_count": 22,
     "metadata": {},
     "output_type": "execute_result"
    }
   ],
   "source": [
    "socket.inet_ntoa(struct.pack('<i', scan.get('ip_address',0.0)))"
   ]
  },
  {
   "cell_type": "code",
   "execution_count": 29,
   "metadata": {},
   "outputs": [
    {
     "data": {
      "text/plain": [
       "{u'bssid': u'24:e9:b3:5e:87:b1',\n",
       " u'hidden_ssid': False,\n",
       " u'ip_address': -1369134912,\n",
       " u'link_speed': 26,\n",
       " u'mac_address': u'4C:3C:16:63:FF:D8',\n",
       " u'network_id': 3,\n",
       " u'rssi': -83,\n",
       " u'ssid': u'\"WiFiLANIA\"',\n",
       " u'supplicant_state': u'completed'}"
      ]
     },
     "execution_count": 29,
     "metadata": {},
     "output_type": "execute_result"
    }
   ],
   "source": [
    "scan"
   ]
  },
  {
   "cell_type": "code",
   "execution_count": 32,
   "metadata": {},
   "outputs": [
    {
     "name": "stdout",
     "output_type": "stream",
     "text": [
      "WiFiLANIA\n",
      "INFINITUM6FFD_2.4\n",
      "dlink\n",
      "PubliLANIA\n",
      "ILANIA\n",
      "DCI\n",
      "Admin\n",
      "EduLANIA\n",
      "Totalplay-599A\n"
     ]
    }
   ],
   "source": [
    "# enlistar las SSID cercanas\n",
    "droide.wifiStartScan()\n",
    "nearAccesPoints = droide.wifiGetScanResults().result\n",
    "\n",
    "for i, curAP in enumerate(nearAccesPoints):\n",
    "    print curAP['ssid']"
   ]
  },
  {
   "cell_type": "markdown",
   "metadata": {},
   "source": [
    "## SettingsFacade"
   ]
  },
  {
   "cell_type": "code",
   "execution_count": 55,
   "metadata": {},
   "outputs": [
    {
     "data": {
      "text/plain": [
       "Result(id=18, result=False, error=None)"
      ]
     },
     "execution_count": 55,
     "metadata": {},
     "output_type": "execute_result"
    }
   ],
   "source": [
    "droide.checkAirplaneMode()"
   ]
  },
  {
   "cell_type": "code",
   "execution_count": 57,
   "metadata": {},
   "outputs": [
    {
     "data": {
      "text/plain": [
       "True"
      ]
     },
     "execution_count": 57,
     "metadata": {},
     "output_type": "execute_result"
    }
   ],
   "source": [
    "droide.checkScreenOn().result"
   ]
  },
  {
   "cell_type": "code",
   "execution_count": 68,
   "metadata": {},
   "outputs": [
    {
     "data": {
      "text/plain": [
       "3"
      ]
     },
     "execution_count": 68,
     "metadata": {},
     "output_type": "execute_result"
    }
   ],
   "source": [
    "droide.getMediaVolume().result"
   ]
  },
  {
   "cell_type": "code",
   "execution_count": 67,
   "metadata": {},
   "outputs": [
    {
     "data": {
      "text/plain": [
       "Result(id=29, result=None, error=None)"
      ]
     },
     "execution_count": 67,
     "metadata": {},
     "output_type": "execute_result"
    }
   ],
   "source": [
    "droide.setMediaVolume(3.14)"
   ]
  },
  {
   "cell_type": "code",
   "execution_count": 64,
   "metadata": {},
   "outputs": [
    {
     "data": {
      "text/plain": [
       "15"
      ]
     },
     "execution_count": 64,
     "metadata": {},
     "output_type": "execute_result"
    }
   ],
   "source": [
    "droide.getMaxMediaVolume().result"
   ]
  },
  {
   "cell_type": "code",
   "execution_count": 69,
   "metadata": {},
   "outputs": [
    {
     "data": {
      "text/plain": [
       "7"
      ]
     },
     "execution_count": 69,
     "metadata": {},
     "output_type": "execute_result"
    }
   ],
   "source": [
    "droide.getMaxRingerVolume().result"
   ]
  },
  {
   "cell_type": "code",
   "execution_count": 71,
   "metadata": {},
   "outputs": [
    {
     "data": {
      "text/plain": [
       "2"
      ]
     },
     "execution_count": 71,
     "metadata": {},
     "output_type": "execute_result"
    }
   ],
   "source": [
    "droide.getRingerVolume().result"
   ]
  },
  {
   "cell_type": "code",
   "execution_count": 73,
   "metadata": {},
   "outputs": [
    {
     "data": {
      "text/plain": [
       "Result(id=34, result=None, error=None)"
      ]
     },
     "execution_count": 73,
     "metadata": {},
     "output_type": "execute_result"
    }
   ],
   "source": [
    "droide.setRingerVolume(5)"
   ]
  },
  {
   "cell_type": "code",
   "execution_count": 79,
   "metadata": {},
   "outputs": [
    {
     "name": "stdout",
     "output_type": "stream",
     "text": [
      "java.lang.NullPointerException\n"
     ]
    },
    {
     "data": {
      "text/plain": [
       "Result(id=39, result=None, error=u'java.lang.NullPointerException')"
      ]
     },
     "execution_count": 79,
     "metadata": {},
     "output_type": "execute_result"
    }
   ],
   "source": [
    "droide.toggleVibrateMode()"
   ]
  },
  {
   "cell_type": "code",
   "execution_count": 91,
   "metadata": {},
   "outputs": [
    {
     "data": {
      "text/plain": [
       "Result(id=51, result=0, error=None)"
      ]
     },
     "execution_count": 91,
     "metadata": {},
     "output_type": "execute_result"
    }
   ],
   "source": [
    "droide.setScreenBrightness(255)"
   ]
  },
  {
   "cell_type": "markdown",
   "metadata": {},
   "source": [
    "## Localizacion"
   ]
  },
  {
   "cell_type": "code",
   "execution_count": 103,
   "metadata": {
    "collapsed": true
   },
   "outputs": [],
   "source": [
    "import time\n",
    "droide.startLocating()\n",
    "time.sleep(15)"
   ]
  },
  {
   "cell_type": "code",
   "execution_count": 108,
   "metadata": {},
   "outputs": [
    {
     "data": {
      "text/plain": [
       "{u'network': {u'accuracy': 20,\n",
       "  u'altitude': 0,\n",
       "  u'bearing': 0,\n",
       "  u'latitude': 19.5197093,\n",
       "  u'longitude': -96.9155696,\n",
       "  u'provider': u'network',\n",
       "  u'speed': 0,\n",
       "  u'time': 1521312511596L}}"
      ]
     },
     "execution_count": 108,
     "metadata": {},
     "output_type": "execute_result"
    }
   ],
   "source": [
    "droide.readLocation().result"
   ]
  },
  {
   "cell_type": "code",
   "execution_count": 113,
   "metadata": {
    "collapsed": true
   },
   "outputs": [],
   "source": [
    "loc=droide.getLastKnownLocation().result"
   ]
  },
  {
   "cell_type": "code",
   "execution_count": 115,
   "metadata": {},
   "outputs": [
    {
     "name": "stdout",
     "output_type": "stream",
     "text": [
      "None\n"
     ]
    }
   ],
   "source": [
    "print loc['gps']"
   ]
  },
  {
   "cell_type": "code",
   "execution_count": 118,
   "metadata": {},
   "outputs": [
    {
     "data": {
      "text/plain": [
       "Result(id=70, result=None, error=None)"
      ]
     },
     "execution_count": 118,
     "metadata": {},
     "output_type": "execute_result"
    }
   ],
   "source": [
    "droide.startLocating()\n",
    "loc = droide.readLocation().result\n",
    "if loc == {}:\n",
    "    loc = droide.getLastKnownLocation().result\n",
    "# agregar una linea para revisar que la antena esta encendida\n",
    "if loc != {}:\n",
    "    try:\n",
    "        n = loc['gps']\n",
    "    except KeyError:\n",
    "        n = loc['network']\n",
    "    la = n['latitude']\n",
    "    lo = n['longitude']\n",
    "    direccion = droide.geocode(la,lo).result\n",
    "droide.stopLocating()"
   ]
  },
  {
   "cell_type": "code",
   "execution_count": 119,
   "metadata": {},
   "outputs": [
    {
     "data": {
      "text/plain": [
       "[{u'admin_area': u'Veracruz',\n",
       "  u'country_code': u'MX',\n",
       "  u'country_name': u'Mexico',\n",
       "  u'feature_name': u'62',\n",
       "  u'locality': u'Xalapa Enr\\xedquez',\n",
       "  u'postal_code': u'91060',\n",
       "  u'sub_admin_area': u'Xalapa',\n",
       "  u'thoroughfare': u'Enrique C R\\xe9bsamen'}]"
      ]
     },
     "execution_count": 119,
     "metadata": {},
     "output_type": "execute_result"
    }
   ],
   "source": [
    "direccion"
   ]
  },
  {
   "cell_type": "code",
   "execution_count": 26,
   "metadata": {
    "collapsed": true
   },
   "outputs": [],
   "source": [
    "loc = droide.getLastKnownLocation().result"
   ]
  },
  {
   "cell_type": "code",
   "execution_count": 27,
   "metadata": {
    "collapsed": true
   },
   "outputs": [],
   "source": [
    "locacion = loc.get('network', loc.get('gps'))"
   ]
  },
  {
   "cell_type": "code",
   "execution_count": 28,
   "metadata": {},
   "outputs": [
    {
     "data": {
      "text/plain": [
       "{u'accuracy': 50.382999420166016,\n",
       " u'altitude': 0,\n",
       " u'bearing': 0,\n",
       " u'latitude': 19.5195433,\n",
       " u'longitude': -96.9155013,\n",
       " u'provider': u'network',\n",
       " u'speed': 0,\n",
       " u'time': 1521649683465}"
      ]
     },
     "execution_count": 28,
     "metadata": {},
     "output_type": "execute_result"
    }
   ],
   "source": [
    "locacion"
   ]
  },
  {
   "cell_type": "markdown",
   "metadata": {},
   "source": [
    "## El mismo ejemplo de localizacion pero usando la cola de eventos Event Queue"
   ]
  },
  {
   "cell_type": "code",
   "execution_count": 120,
   "metadata": {},
   "outputs": [
    {
     "name": "stdout",
     "output_type": "stream",
     "text": [
      "Comenzando a leer el gps...\n"
     ]
    },
    {
     "data": {
      "text/plain": [
       "{u'data': {u'network': {u'accuracy': 20,\n",
       "   u'altitude': 0,\n",
       "   u'bearing': 0,\n",
       "   u'latitude': 19.5197093,\n",
       "   u'longitude': -96.9155696,\n",
       "   u'provider': u'network',\n",
       "   u'speed': 0,\n",
       "   u'time': 1521312511596L}},\n",
       " u'name': u'location',\n",
       " u'time': 1521312512321000L}"
      ]
     },
     "execution_count": 120,
     "metadata": {},
     "output_type": "execute_result"
    }
   ],
   "source": [
    "droide.startLocating()\n",
    "print \"Comenzando a leer el gps...\"\n",
    "\n",
    "evento = droide.eventWaitFor('location',10000).result\n",
    "evento"
   ]
  },
  {
   "cell_type": "code",
   "execution_count": 123,
   "metadata": {},
   "outputs": [
    {
     "name": "stdout",
     "output_type": "stream",
     "text": [
      "[{u'thoroughfare': u'Enrique C R\\xe9bsamen', u'locality': u'Xalapa Enr\\xedquez', u'sub_admin_area': u'Xalapa', u'admin_area': u'Veracruz', u'feature_name': u'62', u'country_code': u'MX', u'country_name': u'Mexico', u'postal_code': u'91060'}]\n"
     ]
    }
   ],
   "source": [
    "if evento['name']==\"location\":\n",
    "    try:\n",
    "        lat = evento['data']['gps']['latitude']\n",
    "        lon = evento['data']['gps']['longitude']\n",
    "    except KeyError:\n",
    "        lat = evento['data']['network']['latitude']\n",
    "        lon = evento['data']['network']['longitude']\n",
    "    ireccion=droide.geocode(lat,lon).result\n",
    "droide.stopLocating()       \n",
    "print direccion"
   ]
  }
 ],
 "metadata": {
  "anaconda-cloud": {},
  "kernelspec": {
   "display_name": "Python [default]",
   "language": "python",
   "name": "python2"
  },
  "language_info": {
   "codemirror_mode": {
    "name": "ipython",
    "version": 2
   },
   "file_extension": ".py",
   "mimetype": "text/x-python",
   "name": "python",
   "nbconvert_exporter": "python",
   "pygments_lexer": "ipython2",
   "version": "2.7.13"
  }
 },
 "nbformat": 4,
 "nbformat_minor": 2
}
