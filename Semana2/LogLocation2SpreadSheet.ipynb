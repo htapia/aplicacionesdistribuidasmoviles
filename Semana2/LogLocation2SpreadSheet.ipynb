{
 "cells": [
  {
   "cell_type": "code",
   "execution_count": 22,
   "metadata": {
    "collapsed": true
   },
   "outputs": [],
   "source": [
    "import android\n",
    "import time\n"
   ]
  },
  {
   "cell_type": "code",
   "execution_count": 198,
   "metadata": {
    "collapsed": true
   },
   "outputs": [],
   "source": [
    "!adb forward tcp:9999 tcp:2222"
   ]
  },
  {
   "cell_type": "code",
   "execution_count": 184,
   "metadata": {
    "collapsed": true
   },
   "outputs": [],
   "source": [
    "droid = android.Android()"
   ]
  },
  {
   "cell_type": "code",
   "execution_count": 126,
   "metadata": {
    "collapsed": true
   },
   "outputs": [],
   "source": [
    "droidfile = '/sdcard/sl4a/RySI2018/locData.json'\n",
    "locfile = 'data.json'\n",
    "with open('data.json', 'a') as f:\n",
    "    json.dump({}, outfile, indent=2)"
   ]
  },
  {
   "cell_type": "code",
   "execution_count": 200,
   "metadata": {},
   "outputs": [
    {
     "name": "stdout",
     "output_type": "stream",
     "text": [
      "Overwriting granja.py\n"
     ]
    }
   ],
   "source": [
    "%%file granja.py\n",
    "\n",
    "import android\n",
    "import time\n",
    "from haversine import *\n",
    "\n",
    "droid = android.Android()\n",
    "\n",
    "lat1 = 19.5197093\n",
    "lon1 = -96.9155696\n",
    "\n",
    "droid.startLocating()\n",
    "time.sleep(15) \n",
    "while True:     \n",
    "    loc = droid.readLocation().result    \n",
    "    if loc == {}:       \n",
    "        loc = droid.getLastKnownLocation().result   \n",
    "    if loc != {}:    \n",
    "        try:\n",
    "            n = loc['gps']    \n",
    "        except KeyError:  \n",
    "            n = loc['network']   \n",
    "    la = n['latitude']  \n",
    "    lo = n['longitude'] \n",
    "    \n",
    "    print haversine(la, lo, lat1, lon1) \n",
    "    \n",
    "    if haversine(la, lo, lat1, lon1) > .1:    \n",
    "        droid.toggleRingerSilentMode(True)  \n",
    "        droid.vibrate(1000)\n",
    "        droid.ttsSpeak(\"saliendo de granja\")\n",
    "    else:         \n",
    "        droid.toggleRingerSilentMode(False)"
   ]
  },
  {
   "cell_type": "code",
   "execution_count": 172,
   "metadata": {},
   "outputs": [
    {
     "name": "stdout",
     "output_type": "stream",
     "text": [
      "Overwriting haversine.py\n"
     ]
    }
   ],
   "source": [
    "%%file haversine.py\n",
    "# haversine function to get distance\n",
    "\n",
    "from math import * \n",
    " \n",
    "def haversine(lon1, lat1, lon2, lat2):\n",
    "    \"\"\"     \n",
    "    Calculate the great circle distance between two points      \n",
    "    on the earth (specified in decimal degrees)     \n",
    "    \"\"\"     \n",
    "    # convert decimal degrees to radians      \n",
    "    lon1, lat1, lon2, lat2 = map(radians, [lon1, lat1, lon2, lat2])     \n",
    "    # haversine formula      \n",
    "    dlon = lon2 - lon1      \n",
    "    dlat = lat2 - lat1 \n",
    "    a = sin(dlat/2)**2 + cos(lat1) * cos(lat2) * sin(dlon/2)**2     \n",
    "    c = 2 * atan2(sqrt(a), sqrt(1-a))      \n",
    "    km = 6367 * c    \n",
    "    return km  "
   ]
  },
  {
   "cell_type": "code",
   "execution_count": 201,
   "metadata": {},
   "outputs": [
    {
     "name": "stdout",
     "output_type": "stream",
     "text": [
      "[100%] /sdcard/sl4a/scripts/granja.py\n",
      "granja.py: 1 file pushed. 0.2 MB/s (779 bytes in 0.003s)\n"
     ]
    }
   ],
   "source": [
    "!adb push granja.py /sdcard/sl4a/scripts"
   ]
  },
  {
   "cell_type": "code",
   "execution_count": null,
   "metadata": {
    "collapsed": true
   },
   "outputs": [],
   "source": []
  }
 ],
 "metadata": {
  "anaconda-cloud": {},
  "kernelspec": {
   "display_name": "Python [default]",
   "language": "python",
   "name": "python2"
  },
  "language_info": {
   "codemirror_mode": {
    "name": "ipython",
    "version": 2
   },
   "file_extension": ".py",
   "mimetype": "text/x-python",
   "name": "python",
   "nbconvert_exporter": "python",
   "pygments_lexer": "ipython2",
   "version": "2.7.13"
  }
 },
 "nbformat": 4,
 "nbformat_minor": 2
}
