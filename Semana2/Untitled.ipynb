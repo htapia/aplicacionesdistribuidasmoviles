{
 "cells": [
  {
   "cell_type": "code",
   "execution_count": 16,
   "metadata": {},
   "outputs": [],
   "source": [
    "!adb forward tcp:9999 tcp:2222"
   ]
  },
  {
   "cell_type": "code",
   "execution_count": 11,
   "metadata": {
    "collapsed": true
   },
   "outputs": [],
   "source": [
    "import time\n",
    "import android\n"
   ]
  },
  {
   "cell_type": "code",
   "execution_count": 17,
   "metadata": {
    "collapsed": true
   },
   "outputs": [],
   "source": [
    "droid = android.Android()"
   ]
  },
  {
   "cell_type": "code",
   "execution_count": 18,
   "metadata": {},
   "outputs": [],
   "source": [
    "droid.startSensingTimed(1, 250)\n",
    "time.sleep(1)"
   ]
  },
  {
   "cell_type": "code",
   "execution_count": 19,
   "metadata": {
    "collapsed": true
   },
   "outputs": [
    {
     "data": {
      "text/plain": [
       "{u'accuracy': 3,\n",
       " u'azimuth': 1.4043418169021606,\n",
       " u'gravity-0': -0.030277997255325317,\n",
       " u'gravity-1': 0.20221564173698425,\n",
       " u'gravity-2': 9.80451774597168,\n",
       " u'light': 36,\n",
       " u'light-0': 0.03435477986931801,\n",
       " u'light-1': 0.02503371424973011,\n",
       " u'light-2': 0.001065264455974102,\n",
       " u'linear_acceleration-0': 0.14699533581733704,\n",
       " u'linear_acceleration-1': -0.2207707017660141,\n",
       " u'linear_acceleration-2': -0.1923961639404297,\n",
       " u'magnetic_field-0': 78.36136627197266,\n",
       " u'magnetic_field-1': -1.1815375089645386,\n",
       " u'magnetic_field-2': -0.17693842947483063,\n",
       " u'pitch': 0.0019302370492368937,\n",
       " u'proximity-0': 5,\n",
       " u'proximity-1': 0,\n",
       " u'proximity-2': 0,\n",
       " u'roll': -0.012142126448452473,\n",
       " u'rotation_vector-0': 0.008967836387455463,\n",
       " u'rotation_vector-1': -0.0053171077743172646,\n",
       " u'rotation_vector-2': -0.6317213773727417,\n",
       " u'time': 1521309446.121,\n",
       " u'xMag': -29.2,\n",
       " u'xforce': 0.11671733,\n",
       " u'yMag': 4.9,\n",
       " u'yforce': -0.018555064,\n",
       " u'zMag': -56.4,\n",
       " u'zforce': 9.612122}"
      ]
     },
     "execution_count": 19,
     "metadata": {},
     "output_type": "execute_result"
    }
   ],
   "source": [
    "droid.readSensors().result"
   ]
  },
  {
   "cell_type": "code",
   "execution_count": 20,
   "metadata": {},
   "outputs": [
    {
     "name": "stdout",
     "output_type": "stream",
     "text": [
      "com.googlecode.android_scripting.rpc.RpcError: Unknown RPC.\n"
     ]
    },
    {
     "data": {
      "text/plain": [
       "Result(id=2, result=None, error=u'com.googlecode.android_scripting.rpc.RpcError: Unknown RPC.')"
      ]
     },
     "execution_count": 20,
     "metadata": {},
     "output_type": "execute_result"
    }
   ],
   "source": [
    "droid.sensorsReadProximity()"
   ]
  },
  {
   "cell_type": "code",
   "execution_count": 13,
   "metadata": {},
   "outputs": [
    {
     "data": {
      "text/plain": [
       "Result(id=6, result=None, error=None)"
      ]
     },
     "execution_count": 13,
     "metadata": {},
     "output_type": "execute_result"
    }
   ],
   "source": [
    "droid.stopSensing()"
   ]
  },
  {
   "cell_type": "code",
   "execution_count": null,
   "metadata": {
    "collapsed": true
   },
   "outputs": [],
   "source": []
  },
  {
   "cell_type": "code",
   "execution_count": 7,
   "metadata": {
    "collapsed": true
   },
   "outputs": [],
   "source": [
    "res = droid.readSensors()"
   ]
  },
  {
   "cell_type": "code",
   "execution_count": 8,
   "metadata": {
    "collapsed": true
   },
   "outputs": [],
   "source": [
    "res.result"
   ]
  },
  {
   "cell_type": "code",
   "execution_count": 21,
   "metadata": {
    "collapsed": true
   },
   "outputs": [],
   "source": [
    "import time"
   ]
  },
  {
   "cell_type": "code",
   "execution_count": 22,
   "metadata": {
    "collapsed": true
   },
   "outputs": [],
   "source": [
    "time.sleep?"
   ]
  },
  {
   "cell_type": "code",
   "execution_count": null,
   "metadata": {
    "collapsed": true
   },
   "outputs": [],
   "source": []
  }
 ],
 "metadata": {
  "kernelspec": {
   "display_name": "Python 2",
   "language": "python",
   "name": "python2"
  }
 },
 "nbformat": 4,
 "nbformat_minor": 2
}
