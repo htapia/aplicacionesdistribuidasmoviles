{
 "cells": [
  {
   "cell_type": "markdown",
   "metadata": {},
   "source": [
    "# Revision de configuracion o\n",
    "## Pasos para conectarse al dispositivo\n",
    "\n",
    "En esta primera libreta vamos a revisar que podemos conectarnos a nuestro dispositivo movil desde nuestra computadora. Para esto \n",
    "\n",
    " * Supongo que ya se tiene SL4A y Py4A en el dispositivo\n",
    " * Supongo que 'adb' esta en el PATH del SO\n",
    " * Supongo que AP_PORT esta definida como variable de entorno\n",
    " * Supongo que `android.py` esta en un directorio reconocido por PYTHONPATH\n",
    "\n",
    "Si alguno de los puntos anteriores no esta completo, por favor revisen [esta libreta de la Semana 1](../Semana1/L00_Preparacion.ipynb) que tiene los detalles de como configurar su sistema.\n",
    "\n",
    "Ahora si, los pasos para conectarse al dispositivo son\n",
    "\n",
    "0. Checar todo lo demas\n",
    "1. conectar el dispositivo a un puerto USB\n",
    "2. verificar que adb lo detecta\n",
    "3. Verificar que la variable de entorno AP_PORT existe\n",
    "4. Iniciar el servicio de Python en el dispositivo\n",
    "4. Crear un puente entre AP_PORT y el servicio de SL4A\n",
    "5. Importar el modulo `android.py`\n",
    "6. Crear un objeto de la clase `android.Android()`\n",
    "7. Probar la conexion con el dispositivo"
   ]
  },
  {
   "cell_type": "code",
   "execution_count": 1,
   "metadata": {},
   "outputs": [
    {
     "name": "stdout",
     "output_type": "stream",
     "text": [
      "List of devices attached\r\n",
      "09c3400a\tdevice\r\n",
      "\r\n"
     ]
    }
   ],
   "source": [
    "# paso 3\n",
    "!adb devices"
   ]
  },
  {
   "cell_type": "code",
   "execution_count": 3,
   "metadata": {},
   "outputs": [
    {
     "name": "stdout",
     "output_type": "stream",
     "text": [
      "9999\r\n"
     ]
    }
   ],
   "source": [
    "# paso 4\n",
    "!echo $AP_PORT # %AP_PORT% en Windows"
   ]
  },
  {
   "cell_type": "markdown",
   "metadata": {},
   "source": [
    "Paso 5\n",
    "<video width=\"320\" height=\"240\" controls>\n",
    "  <source src=\"../files/videos/startSL4Aserver.mp4\" type=\"video/mp4\">\n",
    "</video>\n"
   ]
  },
  {
   "cell_type": "code",
   "execution_count": 15,
   "metadata": {
    "collapsed": true
   },
   "outputs": [],
   "source": [
    "# paso 6\n",
    "# asegurarse que el servicio de SL4A esta corriendo en el dispositivo\n",
    "!adb forward tcp:9999 tcp:2222"
   ]
  },
  {
   "cell_type": "code",
   "execution_count": 16,
   "metadata": {
    "collapsed": true
   },
   "outputs": [],
   "source": [
    "# paso 7\n",
    "import android"
   ]
  },
  {
   "cell_type": "code",
   "execution_count": 17,
   "metadata": {},
   "outputs": [],
   "source": [
    "# paso 8\n",
    "droide = android.Android()"
   ]
  },
  {
   "cell_type": "code",
   "execution_count": 18,
   "metadata": {},
   "outputs": [
    {
     "data": {
      "text/plain": [
       "Result(id=0, result=None, error=None)"
      ]
     },
     "execution_count": 18,
     "metadata": {},
     "output_type": "execute_result"
    }
   ],
   "source": [
    "# paso 9\n",
    "droide.ttsSpeak(\"Una cadena de texto\")"
   ]
  }
 ],
 "metadata": {
  "anaconda-cloud": {},
  "kernelspec": {
   "display_name": "Python [default]",
   "language": "python",
   "name": "python2"
  },
  "language_info": {
   "codemirror_mode": {
    "name": "ipython",
    "version": 2
   },
   "file_extension": ".py",
   "mimetype": "text/x-python",
   "name": "python",
   "nbconvert_exporter": "python",
   "pygments_lexer": "ipython2",
   "version": "2.7.13"
  }
 },
 "nbformat": 4,
 "nbformat_minor": 2
}
