{
 "cells": [
  {
   "cell_type": "markdown",
   "metadata": {},
   "source": [
    "# Definiendo una geogranja\n",
    "\n",
    "En esta libreta crearemos una aplicacion que defina una region geografica y veremos como reaccionar ante eventos de localizacion: cuando el dispositivo salga de la region definida, la geogranja, se emite un mensaje y se registra que se salio de la region. Cuando entramos nuevamente a la region se notifica y se registra la entrada."
   ]
  },
  {
   "cell_type": "code",
   "execution_count": 7,
   "metadata": {
    "collapsed": true
   },
   "outputs": [],
   "source": [
    "# import android\n",
    "import android"
   ]
  },
  {
   "cell_type": "code",
   "execution_count": 93,
   "metadata": {},
   "outputs": [
    {
     "name": "stdout",
     "output_type": "stream",
     "text": [
      "List of devices attached\r\n",
      "09c3400a\tdevice\r\n",
      "\r\n"
     ]
    }
   ],
   "source": [
    "!adb devices"
   ]
  },
  {
   "cell_type": "code",
   "execution_count": 94,
   "metadata": {},
   "outputs": [],
   "source": [
    "!adb forward tcp:9999 tcp:2222"
   ]
  },
  {
   "cell_type": "code",
   "execution_count": 95,
   "metadata": {},
   "outputs": [
    {
     "data": {
      "text/plain": [
       "Result(id=0, result=None, error=None)"
      ]
     },
     "execution_count": 95,
     "metadata": {},
     "output_type": "execute_result"
    }
   ],
   "source": [
    "droid = android.Android() #[\"192.168.100.74\",\"2222\"])\n",
    "droid.ttsSpeak(\"listo para recibir instrucciones\")"
   ]
  },
  {
   "cell_type": "code",
   "execution_count": 102,
   "metadata": {},
   "outputs": [
    {
     "data": {
      "text/plain": [
       "'2018-03-23 15:24:48, 19.5197093, -96.9155696, 0, -, False\\n'"
      ]
     },
     "execution_count": 102,
     "metadata": {},
     "output_type": "execute_result"
    }
   ],
   "source": [
    "lat1 = 19.5197093\n",
    "lon1 = -96.9155696\n",
    "hd = 0\n",
    "prov = '-'\n",
    "newLoc = False\n",
    "curTime = datetime.datetime.now().strftime('%Y-%m-%d %H:%M:%S')\n",
    "\"{0}, {1}, {2}, {3}, {4}, {5}\\n\".format(curTime, lat1, lon1, hd, prov, newLoc)"
   ]
  },
  {
   "cell_type": "code",
   "execution_count": 103,
   "metadata": {},
   "outputs": [
    {
     "name": "stdout",
     "output_type": "stream",
     "text": [
      "Overwriting granja.py\n"
     ]
    }
   ],
   "source": [
    "%%file granja.py\n",
    "import android\n",
    "import datetime, time\n",
    "from haversine import *\n",
    "droid = android.Android()\n",
    "\n",
    "logName = 'locationLog-'+datetime.datetime.now().strftime(\"%Y%m%d-%H%M%S\")\n",
    "localLog = '/sdcard/sl4a/scripts/RySI/'+logName+'.txt'\n",
    "\n",
    "logHeader = \"Time, Latitude, Longitude, Distance, Provider\\n\"\n",
    "\n",
    "lat1 = 19.5197093\n",
    "lon1 = -96.9155696\n",
    "hd = haversine(lat1, lon1, lat1, lon1)\n",
    "prov = '-'\n",
    "\n",
    "droid.wakeLockAcquirePartial()\n",
    "droid.startLocating()\n",
    "time.sleep(15)\n",
    "\n",
    "with open(localLog, 'a') as logFile:\n",
    "    logFile.write(logHeader)\n",
    "    curTime = datetime.datetime.now().strftime('%Y-%m-%d %H:%M:%S')\n",
    "    logFile.write(\"{0}, {1}, {2}, {3}, {4}, {5}\\n\".format(curTime, lat1, lon1, hd, prov, '-'))\n",
    "    \n",
    "    while True:\n",
    "        loc = droid.readLocation().result\n",
    "        if loc == {}:\n",
    "            loc = droid.getLastKnownLocation().result\n",
    "            newLoc = False\n",
    "        if loc != {}:\n",
    "            newLoc = True\n",
    "            try:\n",
    "                prov = 'gps'\n",
    "                n = loc[prov]                \n",
    "            except KeyError:\n",
    "                prov = 'network'\n",
    "                n = loc[prov]\n",
    "            \n",
    "        la = n['latitude']\n",
    "        lo = n['longitude']\n",
    "        ts = n['time']\n",
    "        t = datetime.datetime.fromtimestamp(ts/1e3).strftime('%H:%M:%S')\n",
    "        \n",
    "        hd = haversine(la, lo, lat1, lon1)\n",
    "        time.sleep(10)\n",
    "        \n",
    "        logLine = \"{0}, {1}, {2}, {3}, {4}, {5}\\n\".format(t, lat1, lon1, hd, prov, newLoc)\n",
    "        logFile.write(logLine)\n",
    "        logFile.flush()\n",
    "        \n",
    "        print \"{0}, {1}, {2}, {3}\".format(t, hd, prov, newLoc)\n",
    "            \n",
    "        if hd > .1:\n",
    "            droid.toggleRingerSilentMode(True)\n",
    "            droid.vibrate(1000)\n",
    "            droid.ttsSpeak(\"Dejando geocerca\")\n",
    "        else:\n",
    "            droid.toggleRingerSilentMode(False)\n",
    "    \n",
    "    logFile.close()\n"
   ]
  },
  {
   "cell_type": "code",
   "execution_count": 27,
   "metadata": {},
   "outputs": [
    {
     "name": "stdout",
     "output_type": "stream",
     "text": [
      "Overwriting haversine.py\n"
     ]
    }
   ],
   "source": [
    "%%file haversine.py\n",
    "# haversine function to get distance\n",
    "\n",
    "from math import * \n",
    " \n",
    "def haversine(lon1, lat1, lon2, lat2):\n",
    "    \"\"\"     \n",
    "    Calculate the great circle distance between two points      \n",
    "    on the earth (specified in decimal degrees)     \n",
    "    \"\"\"     \n",
    "    # convert decimal degrees to radians      \n",
    "    lon1, lat1, lon2, lat2 = map(radians, [lon1, lat1, lon2, lat2])     \n",
    "    # haversine formula      \n",
    "    dlon = lon2 - lon1      \n",
    "    dlat = lat2 - lat1 \n",
    "    a = sin(dlat/2)**2 + cos(lat1) * cos(lat2) * sin(dlon/2)**2     \n",
    "    c = 2 * atan2(sqrt(a), sqrt(1-a))      \n",
    "    km = 6367 * c    \n",
    "    return km  "
   ]
  },
  {
   "cell_type": "code",
   "execution_count": 32,
   "metadata": {},
   "outputs": [
    {
     "name": "stdout",
     "output_type": "stream",
     "text": [
      "13 KB/s (596 bytes in 0.042s)\r\n"
     ]
    }
   ],
   "source": [
    "!adb push haversine.py /sdcard/sl4a/scripts/RySI"
   ]
  },
  {
   "cell_type": "code",
   "execution_count": 104,
   "metadata": {},
   "outputs": [
    {
     "name": "stdout",
     "output_type": "stream",
     "text": [
      "40 KB/s (1777 bytes in 0.042s)\r\n"
     ]
    }
   ],
   "source": [
    "!adb push granja.py /sdcard/sl4a/scripts/RySI"
   ]
  }
 ],
 "metadata": {
  "anaconda-cloud": {},
  "kernelspec": {
   "display_name": "Python [default]",
   "language": "python",
   "name": "python2"
  },
  "language_info": {
   "codemirror_mode": {
    "name": "ipython",
    "version": 2
   },
   "file_extension": ".py",
   "mimetype": "text/x-python",
   "name": "python",
   "nbconvert_exporter": "python",
   "pygments_lexer": "ipython2",
   "version": "2.7.13"
  }
 },
 "nbformat": 4,
 "nbformat_minor": 2
}
