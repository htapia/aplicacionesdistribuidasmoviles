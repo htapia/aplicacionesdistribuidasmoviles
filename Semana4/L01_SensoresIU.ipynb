{
 "cells": [
  {
   "cell_type": "code",
   "execution_count": 1,
   "metadata": {},
   "outputs": [
    {
     "name": "stdout",
     "output_type": "stream",
     "text": [
      "List of devices attached\n",
      "09c3400a\tdevice\n",
      "\n"
     ]
    }
   ],
   "source": [
    "!adb devices"
   ]
  },
  {
   "cell_type": "code",
   "execution_count": 2,
   "metadata": {},
   "outputs": [
    {
     "name": "stderr",
     "output_type": "stream",
     "text": [
      "error: cannot bind listener: cannot bind to 127.0.0.1:9999: Solo se permite un uso de cada direcciÃ³n de socket (protocolo/direcciÃ³n de red/puerto) (10048)\n"
     ]
    }
   ],
   "source": [
    "!adb forward tcp:9999 tcp:2222"
   ]
  },
  {
   "cell_type": "code",
   "execution_count": 1,
   "metadata": {
    "collapsed": true
   },
   "outputs": [],
   "source": [
    "import android\n",
    "droid = android.Android([\"192.168.100.174\",\"2222\"])"
   ]
  },
  {
   "cell_type": "code",
   "execution_count": 51,
   "metadata": {
    "collapsed": true
   },
   "outputs": [],
   "source": [
    "def userInput():\n",
    "    droid.dialogGetInput().result"
   ]
  },
  {
   "cell_type": "code",
   "execution_count": 53,
   "metadata": {},
   "outputs": [],
   "source": [
    "ttotal = {\"0\": 3000, \"1\": 5000, \"2\": userInput()}"
   ]
  },
  {
   "cell_type": "code",
   "execution_count": null,
   "metadata": {
    "collapsed": true
   },
   "outputs": [],
   "source": []
  },
  {
   "cell_type": "code",
   "execution_count": 65,
   "metadata": {},
   "outputs": [
    {
     "name": "stdout",
     "output_type": "stream",
     "text": [
      "45000\n"
     ]
    }
   ],
   "source": [
    "def getTimeFromUser():\n",
    "    \"\"\"\n",
    "        Query user to select default or custom times\n",
    "        \n",
    "    \"\"\"\n",
    "    \n",
    "    vals=[\"3 seg\", \"5 seg\", \"Custom\"]\n",
    "    droid.dialogCreateAlert(\"Selecciona tiempo de censado\")\n",
    "    droid.dialogSetSingleChoiceItems(vals)\n",
    "    droid.dialogSetNeutralButtonText(\"Listo\")\n",
    "    droid.dialogShow()\n",
    "    droid.dialogGetResponse()\n",
    "    elije = droid.dialogGetSelectedItems().result[0]\n",
    "    if elije == 0:\n",
    "        tiempoTotal = 3000\n",
    "    elif elije == 1:\n",
    "        tiempoTotal = 5000\n",
    "    elif elije == 2:\n",
    "        tiempoTotal = int(droid.dialogGetInput().result)*1000\n",
    "\n",
    "    return tiempoTotal\n",
    "\n",
    "#droid.dialogDismiss()"
   ]
  },
  {
   "cell_type": "code",
   "execution_count": 69,
   "metadata": {
    "collapsed": true
   },
   "outputs": [],
   "source": [
    "def capturaDatosAceleracion():\n",
    "    \"\"\"\n",
    "            Una funcion simple que registra lecturas del acelerometro y las\n",
    "            publica en Databin \n",
    "            Incluye interaccion con usuario\n",
    "    \"\"\"\n",
    "    import urllib2\n",
    "    import time\n",
    "    \n",
    "    aceleracion = []\n",
    "    tiempoCensado = 0.\n",
    "    tiempoTotal = getTimeFromUser()\n",
    "    \n",
    "    binID = \"tmjtU05t\"\n",
    "    host = 'datadrop.wolframcloud.com'\n",
    "    base_url = 'https://'+host\n",
    "    bin_url = '/api/v1.0/Add?bin={0}'.format(binID)\n",
    "    \n",
    "    droid.startSensingTimed(2,100)\n",
    "    \n",
    "    while tiempoCensado <= tiempoTotal:\n",
    "        # aceleracion.append(droid.sensorsReadAccelerometer().result)\n",
    "        a = droid.sensorsReadAccelerometer().result\n",
    "        time.sleep(100/1000.00)\n",
    "        tiempoCensado += 100\n",
    "        message = '&Ax={0}&Ay={1}&Az={2}'.format(a[0], a[1], a[2])\n",
    "        drop_url = base_url+bin_url+message\n",
    "        req = urllib2.Request(drop_url)\n",
    "        response = urllib2.urlopen(req)\n",
    "        time.sleep(100/1000.00))\n",
    "    droid.stopSensing();\n",
    "    \n",
    "    return response.read()\n",
    "\n",
    "def getTimeFromUser():\n",
    "    \"\"\"\n",
    "        Query user to select default or custom times\n",
    "        \n",
    "    \"\"\"\n",
    "    \n",
    "    vals=[\"3 seg\", \"5 seg\", \"Custom\"]\n",
    "    droid.dialogCreateAlert(\"Selecciona tiempo de censado\")\n",
    "    droid.dialogSetSingleChoiceItems(vals)\n",
    "    droid.dialogSetNeutralButtonText(\"Listo\")\n",
    "    droid.dialogShow()\n",
    "    droid.dialogGetResponse()\n",
    "    elije = droid.dialogGetSelectedItems().result[0]\n",
    "    if elije == 0:\n",
    "        tiempoTotal = 3000\n",
    "    elif elije == 1:\n",
    "        tiempoTotal = 5000\n",
    "    elif elije == 2:\n",
    "        tiempoTotal = int(droid.dialogGetInput().result)*1000\n",
    "\n",
    "    return tiempoTotal"
   ]
  },
  {
   "cell_type": "code",
   "execution_count": 71,
   "metadata": {},
   "outputs": [
    {
     "data": {
      "text/plain": [
       "Result(id=249, result=None, error=None)"
      ]
     },
     "execution_count": 71,
     "metadata": {},
     "output_type": "execute_result"
    }
   ],
   "source": [
    "droid.stopSensing()"
   ]
  },
  {
   "cell_type": "code",
   "execution_count": 72,
   "metadata": {},
   "outputs": [
    {
     "data": {
      "text/plain": [
       "'<|\"Message\" -> \"The data was successfully added.\", \"Bin\" -> \"DDa2539b01302-14d9-431e-9efc-c21829e2675a\", \"Data\" -> <|\"Ax\" -> \"-2.3786395\", \"Ay\" -> \"7.147889\", \"Az\" -> \"-0.97623575\"|>, \"Timestamp\" -> {2018, 3, 24, 18, 15, 7.366743`7.619850506348308}, \"DataID\" -> \"datab05ba75e-bdd3-4992-a949-146094238c67\", \"Information\" -> {\"EntryCount\" -> 122, \"LatestTimestamp\" -> 3730904107, \"Size\" -> 76128}|>'"
      ]
     },
     "execution_count": 72,
     "metadata": {},
     "output_type": "execute_result"
    }
   ],
   "source": [
    "capturaDatosAceleracion()"
   ]
  },
  {
   "cell_type": "code",
   "execution_count": 73,
   "metadata": {},
   "outputs": [
    {
     "data": {
      "text/plain": [
       "'https://datadrop.wolframcloud.com'"
      ]
     },
     "execution_count": 73,
     "metadata": {},
     "output_type": "execute_result"
    }
   ],
   "source": [
    "base_url"
   ]
  },
  {
   "cell_type": "code",
   "execution_count": 74,
   "metadata": {},
   "outputs": [
    {
     "data": {
      "text/plain": [
       "'https://datadrop.wolframcloud.com/api/v1.0/Add?bin=tmjtU05t&Ax=0.12988544&Ay=0.06943185&Az=9.7641535'"
      ]
     },
     "execution_count": 74,
     "metadata": {},
     "output_type": "execute_result"
    }
   ],
   "source": [
    "drop_url"
   ]
  },
  {
   "cell_type": "code",
   "execution_count": null,
   "metadata": {
    "collapsed": true
   },
   "outputs": [],
   "source": []
  }
 ],
 "metadata": {
  "kernelspec": {
   "display_name": "Python 2",
   "language": "python",
   "name": "python2"
  },
  "language_info": {
   "codemirror_mode": {
    "name": "ipython",
    "version": 2
   },
   "file_extension": ".py",
   "mimetype": "text/x-python",
   "name": "python",
   "nbconvert_exporter": "python",
   "pygments_lexer": "ipython2",
   "version": "2.7.13"
  }
 },
 "nbformat": 4,
 "nbformat_minor": 2
}
